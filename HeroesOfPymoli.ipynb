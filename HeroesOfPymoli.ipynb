{
 "cells": [
  {
   "cell_type": "markdown",
   "metadata": {},
   "source": [
    "### Note\n",
    "* Comments detailing the flow have been included for each segment."
   ]
  },
  {
   "cell_type": "code",
   "execution_count": 59,
   "metadata": {},
   "outputs": [],
   "source": [
    "# Dependencies and Setup\n",
    "import pandas as pd\n",
    "import pprint         # this is only needed for debug\n",
    "\n",
    "# File to Load (Remember to Change These)\n",
    "file_to_load = \"Resources/purchase_data.csv\"\n",
    "pp = pprint.PrettyPrinter(indent=4)\n",
    "\n",
    "# Read Purchasing File and store into Pandas data frame\n",
    "purchase_data_df = pd.read_csv(file_to_load)"
   ]
  },
  {
   "cell_type": "markdown",
   "metadata": {},
   "source": [
    "## Player Count"
   ]
  },
  {
   "cell_type": "markdown",
   "metadata": {},
   "source": [
    "* Display the total number of players\n"
   ]
  },
  {
   "cell_type": "code",
   "execution_count": 60,
   "metadata": {},
   "outputs": [
    {
     "output_type": "execute_result",
     "data": {
      "text/plain": [
       "   Total Players\n",
       "0            576"
      ],
      "text/html": "<div>\n<style scoped>\n    .dataframe tbody tr th:only-of-type {\n        vertical-align: middle;\n    }\n\n    .dataframe tbody tr th {\n        vertical-align: top;\n    }\n\n    .dataframe thead th {\n        text-align: right;\n    }\n</style>\n<table border=\"1\" class=\"dataframe\">\n  <thead>\n    <tr style=\"text-align: right;\">\n      <th></th>\n      <th>Total Players</th>\n    </tr>\n  </thead>\n  <tbody>\n    <tr>\n      <th>0</th>\n      <td>576</td>\n    </tr>\n  </tbody>\n</table>\n</div>"
     },
     "metadata": {},
     "execution_count": 60
    }
   ],
   "source": [
    "# Find the number of screen names \"SN\", for player count\n",
    "player_count = len(purchase_data_df[\"SN\"].unique())\n",
    "# print(player_count)\n",
    "\n",
    "# Create a data frame\n",
    "player_count_df = pd.DataFrame({\"Total Players\": [player_count]})\n",
    "player_count_df"
   ]
  },
  {
   "cell_type": "markdown",
   "metadata": {},
   "source": [
    "## Purchasing Analysis (Total)"
   ]
  },
  {
   "cell_type": "markdown",
   "metadata": {},
   "source": [
    "* Run basic calculations to obtain number of unique items, average price, etc.\n",
    "\n",
    "\n",
    "* Create a summary data frame to hold the results\n",
    "\n",
    "\n",
    "* Optional: give the displayed data cleaner formatting\n",
    "\n",
    "\n",
    "* Display the summary data frame\n"
   ]
  },
  {
   "cell_type": "code",
   "execution_count": 61,
   "metadata": {
    "scrolled": true
   },
   "outputs": [
    {
     "output_type": "execute_result",
     "data": {
      "text/plain": [
       "<pandas.io.formats.style.Styler at 0x1e342453160>"
      ],
      "text/html": "<style  type=\"text/css\" >\n</style><table id=\"T_4c57e00f_11ad_11eb_819a_4c1d961ba359\" ><thead>    <tr>        <th class=\"blank level0\" ></th>        <th class=\"col_heading level0 col0\" >Number of Unique Items</th>        <th class=\"col_heading level0 col1\" >Average Price</th>        <th class=\"col_heading level0 col2\" >Number of Purchases</th>        <th class=\"col_heading level0 col3\" >Total Revenue</th>    </tr></thead><tbody>\n                <tr>\n                        <th id=\"T_4c57e00f_11ad_11eb_819a_4c1d961ba359level0_row0\" class=\"row_heading level0 row0\" >0</th>\n                        <td id=\"T_4c57e00f_11ad_11eb_819a_4c1d961ba359row0_col0\" class=\"data row0 col0\" >179</td>\n                        <td id=\"T_4c57e00f_11ad_11eb_819a_4c1d961ba359row0_col1\" class=\"data row0 col1\" >$3.05</td>\n                        <td id=\"T_4c57e00f_11ad_11eb_819a_4c1d961ba359row0_col2\" class=\"data row0 col2\" >780</td>\n                        <td id=\"T_4c57e00f_11ad_11eb_819a_4c1d961ba359row0_col3\" class=\"data row0 col3\" >$2,379.77</td>\n            </tr>\n    </tbody></table>"
     },
     "metadata": {},
     "execution_count": 61
    }
   ],
   "source": [
    "# find unique items, average price, purchase count, and revenue\n",
    "count_unique_items = len(purchase_data_df[\"Item ID\"].unique())\n",
    "average_price = purchase_data_df[\"Price\"].mean()\n",
    "count_purchases = purchase_data_df[\"Purchase ID\"].count()\n",
    "total_revenue = purchase_data_df[\"Price\"].sum()\n",
    "\n",
    "# create data frame with specific columns\n",
    "summary_df = pd.DataFrame({\"Number of Unique Items\": [count_unique_items],\n",
    "                           \"Average Price\": [average_price], \n",
    "                           \"Number of Purchases\": [count_purchases], \n",
    "                           \"Total Revenue\": [total_revenue]\n",
    "                         })\n",
    "\n",
    "# format as currency\n",
    "summary_df.style.format({\"Average Price\": '${:,.2f}',\n",
    "                         \"Total Revenue\": '${:,.2f}'\n",
    "                       })"
   ]
  },
  {
   "cell_type": "markdown",
   "metadata": {},
   "source": [
    "## Gender Demographics"
   ]
  },
  {
   "cell_type": "markdown",
   "metadata": {},
   "source": [
    "* Percentage and Count of Male Players\n",
    "\n",
    "\n",
    "* Percentage and Count of Female Players\n",
    "\n",
    "\n",
    "* Percentage and Count of Other / Non-Disclosed\n",
    "\n",
    "\n"
   ]
  },
  {
   "cell_type": "code",
   "execution_count": 62,
   "metadata": {},
   "outputs": [
    {
     "output_type": "execute_result",
     "data": {
      "text/plain": [
       "<pandas.io.formats.style.Styler at 0x1e33f90d220>"
      ],
      "text/html": "<style  type=\"text/css\" >\n</style><table id=\"T_7ceb3722_11ad_11eb_ba59_4c1d961ba359\" ><thead>    <tr>        <th class=\"blank level0\" ></th>        <th class=\"col_heading level0 col0\" >Total Count</th>        <th class=\"col_heading level0 col1\" >Percentage of Players</th>    </tr></thead><tbody>\n                <tr>\n                        <th id=\"T_7ceb3722_11ad_11eb_ba59_4c1d961ba359level0_row0\" class=\"row_heading level0 row0\" >Male</th>\n                        <td id=\"T_7ceb3722_11ad_11eb_ba59_4c1d961ba359row0_col0\" class=\"data row0 col0\" >484</td>\n                        <td id=\"T_7ceb3722_11ad_11eb_ba59_4c1d961ba359row0_col1\" class=\"data row0 col1\" >84.03%</td>\n            </tr>\n            <tr>\n                        <th id=\"T_7ceb3722_11ad_11eb_ba59_4c1d961ba359level0_row1\" class=\"row_heading level0 row1\" >Female</th>\n                        <td id=\"T_7ceb3722_11ad_11eb_ba59_4c1d961ba359row1_col0\" class=\"data row1 col0\" >81</td>\n                        <td id=\"T_7ceb3722_11ad_11eb_ba59_4c1d961ba359row1_col1\" class=\"data row1 col1\" >14.06%</td>\n            </tr>\n            <tr>\n                        <th id=\"T_7ceb3722_11ad_11eb_ba59_4c1d961ba359level0_row2\" class=\"row_heading level0 row2\" >Other / Non-Disclosed</th>\n                        <td id=\"T_7ceb3722_11ad_11eb_ba59_4c1d961ba359row2_col0\" class=\"data row2 col0\" >11</td>\n                        <td id=\"T_7ceb3722_11ad_11eb_ba59_4c1d961ba359row2_col1\" class=\"data row2 col1\" >1.91%</td>\n            </tr>\n    </tbody></table>"
     },
     "metadata": {},
     "execution_count": 62
    }
   ],
   "source": [
    "# get a gender data frame group\n",
    "gender_dfg = purchase_data_df.groupby(\"Gender\")\n",
    "# for key, item in gender_dfg:\n",
    "#     print(gender_dfg.get_group(key))\n",
    "\n",
    "# total screen names by gender\n",
    "total_gender_dfu = gender_dfg.nunique()[\"SN\"]\n",
    "# print(total_gender_dfu)\n",
    "\n",
    "# find player percentage \n",
    "percent_of_players_dfu = total_gender_dfu / player_count * 100\n",
    "# print(percent_of_players_dfu)\n",
    "\n",
    "# Create data frame\n",
    "gender_demo_df = pd.DataFrame({\"Total Count\": total_gender_dfu, \"Percentage of Players\": percent_of_players_dfu})\n",
    "gender_demo_df.index.name = None\n",
    "\n",
    "# Format the values sorted by total count in descending order, and two decimal places for the percentage\n",
    "gender_demo_df.sort_values([\"Total Count\"], ascending = False).style.format({\"Percentage of Players\":\"{:.2f}%\"})"
   ]
  },
  {
   "cell_type": "markdown",
   "metadata": {},
   "source": [
    "\n",
    "## Purchasing Analysis (Gender)"
   ]
  },
  {
   "cell_type": "markdown",
   "metadata": {},
   "source": [
    "* Run basic calculations to obtain purchase count, avg. purchase price, avg. purchase total per person etc. by gender\n",
    "\n",
    "\n",
    "\n",
    "\n",
    "* Create a summary data frame to hold the results\n",
    "\n",
    "\n",
    "* Optional: give the displayed data cleaner formatting\n",
    "\n",
    "\n",
    "* Display the summary data frame"
   ]
  },
  {
   "cell_type": "code",
   "execution_count": 78,
   "metadata": {},
   "outputs": [
    {
     "output_type": "execute_result",
     "data": {
      "text/plain": [
       "<pandas.io.formats.style.Styler at 0x1e347650370>"
      ],
      "text/html": "<style  type=\"text/css\" >\n</style><table id=\"T_64139862_1213_11eb_bac5_4c1d961ba359\" ><thead>    <tr>        <th class=\"blank level0\" ></th>        <th class=\"col_heading level0 col0\" >Purchase Count</th>        <th class=\"col_heading level0 col1\" >Average Purchase Price</th>        <th class=\"col_heading level0 col2\" >Average Purchase Value</th>        <th class=\"col_heading level0 col3\" >Avg Purchase Total per Person</th>    </tr>    <tr>        <th class=\"index_name level0\" >Gender</th>        <th class=\"blank\" ></th>        <th class=\"blank\" ></th>        <th class=\"blank\" ></th>        <th class=\"blank\" ></th>    </tr></thead><tbody>\n                <tr>\n                        <th id=\"T_64139862_1213_11eb_bac5_4c1d961ba359level0_row0\" class=\"row_heading level0 row0\" >Female</th>\n                        <td id=\"T_64139862_1213_11eb_bac5_4c1d961ba359row0_col0\" class=\"data row0 col0\" >113</td>\n                        <td id=\"T_64139862_1213_11eb_bac5_4c1d961ba359row0_col1\" class=\"data row0 col1\" >$3.20</td>\n                        <td id=\"T_64139862_1213_11eb_bac5_4c1d961ba359row0_col2\" class=\"data row0 col2\" >$361.94</td>\n                        <td id=\"T_64139862_1213_11eb_bac5_4c1d961ba359row0_col3\" class=\"data row0 col3\" >$4.47</td>\n            </tr>\n            <tr>\n                        <th id=\"T_64139862_1213_11eb_bac5_4c1d961ba359level0_row1\" class=\"row_heading level0 row1\" >Male</th>\n                        <td id=\"T_64139862_1213_11eb_bac5_4c1d961ba359row1_col0\" class=\"data row1 col0\" >652</td>\n                        <td id=\"T_64139862_1213_11eb_bac5_4c1d961ba359row1_col1\" class=\"data row1 col1\" >$3.02</td>\n                        <td id=\"T_64139862_1213_11eb_bac5_4c1d961ba359row1_col2\" class=\"data row1 col2\" >$1,967.64</td>\n                        <td id=\"T_64139862_1213_11eb_bac5_4c1d961ba359row1_col3\" class=\"data row1 col3\" >$4.07</td>\n            </tr>\n            <tr>\n                        <th id=\"T_64139862_1213_11eb_bac5_4c1d961ba359level0_row2\" class=\"row_heading level0 row2\" >Other / Non-Disclosed</th>\n                        <td id=\"T_64139862_1213_11eb_bac5_4c1d961ba359row2_col0\" class=\"data row2 col0\" >15</td>\n                        <td id=\"T_64139862_1213_11eb_bac5_4c1d961ba359row2_col1\" class=\"data row2 col1\" >$3.35</td>\n                        <td id=\"T_64139862_1213_11eb_bac5_4c1d961ba359row2_col2\" class=\"data row2 col2\" >$50.19</td>\n                        <td id=\"T_64139862_1213_11eb_bac5_4c1d961ba359row2_col3\" class=\"data row2 col3\" >$4.56</td>\n            </tr>\n    </tbody></table>"
     },
     "metadata": {},
     "execution_count": 78
    }
   ],
   "source": [
    "# Get the stats from the gender data frame \n",
    "purchase_count_col = gender_dfg[\"Purchase ID\"].count()\n",
    "avg_purchase_price_col = gender_dfg[\"Price\"].mean()\n",
    "avg_purchase_total_col = gender_dfg[\"Price\"].sum()\n",
    "avg_purchase_per_person_col = avg_purchase_total_col / total_gender\n",
    "\n",
    "# Create data frame with the values above \n",
    "gender_sum_df = pd.DataFrame({\n",
    "                               \"Purchase Count\": purchase_count_col, \n",
    "                               \"Average Purchase Price\": avg_purchase_price_col,\n",
    "                               \"Average Purchase Value\":avg_purchase_total_col,\n",
    "                               \"Avg Purchase Total per Person\": avg_purchase_per_person_col\n",
    "                             })\n",
    "\n",
    "# Make index in top left \"Gender\"\n",
    "gender_sum_df.index.name = \"Gender\"\n",
    "\n",
    "# Format with currency style\n",
    "gender_sum_df.style.format({\n",
    "                                \"Average Purchase Price\":\"${:,.2f}\",\n",
    "                                \"Average Purchase Value\":\"${:,.2f}\",\n",
    "                                \"Avg Purchase Total per Person\":\"${:,.2f}\"\n",
    "                            })"
   ]
  },
  {
   "cell_type": "markdown",
   "metadata": {},
   "source": [
    "## Age Demographics"
   ]
  },
  {
   "cell_type": "markdown",
   "metadata": {},
   "source": [
    "* Establish bins for ages\n",
    "\n",
    "\n",
    "* Categorize the existing players using the age bins. Hint: use pd.cut()\n",
    "\n",
    "\n",
    "* Calculate the numbers and percentages by age group\n",
    "\n",
    "\n",
    "* Create a summary data frame to hold the results\n",
    "\n",
    "\n",
    "* Optional: round the percentage column to two decimal points\n",
    "\n",
    "\n",
    "* Display Age Demographics Table\n"
   ]
  },
  {
   "cell_type": "code",
   "execution_count": 87,
   "metadata": {
    "tags": []
   },
   "outputs": [
    {
     "output_type": "stream",
     "name": "stdout",
     "text": [
      "Age Group\n<10       17\n10-14     22\n15-19    107\n20-24    258\n25-29     77\n30-34     52\n35-39     31\n40+       12\nName: SN, dtype: int64\n"
     ]
    },
    {
     "output_type": "execute_result",
     "data": {
      "text/plain": [
       "<pandas.io.formats.style.Styler at 0x1e3487dbb50>"
      ],
      "text/html": "<style  type=\"text/css\" >\n</style><table id=\"T_c95a9903_1219_11eb_b8c5_4c1d961ba359\" ><thead>    <tr>        <th class=\"blank level0\" ></th>        <th class=\"col_heading level0 col0\" >Total Count</th>        <th class=\"col_heading level0 col1\" >Percentage of Players</th>    </tr></thead><tbody>\n                <tr>\n                        <th id=\"T_c95a9903_1219_11eb_b8c5_4c1d961ba359level0_row0\" class=\"row_heading level0 row0\" ><10</th>\n                        <td id=\"T_c95a9903_1219_11eb_b8c5_4c1d961ba359row0_col0\" class=\"data row0 col0\" >17</td>\n                        <td id=\"T_c95a9903_1219_11eb_b8c5_4c1d961ba359row0_col1\" class=\"data row0 col1\" >2.95%</td>\n            </tr>\n            <tr>\n                        <th id=\"T_c95a9903_1219_11eb_b8c5_4c1d961ba359level0_row1\" class=\"row_heading level0 row1\" >10-14</th>\n                        <td id=\"T_c95a9903_1219_11eb_b8c5_4c1d961ba359row1_col0\" class=\"data row1 col0\" >22</td>\n                        <td id=\"T_c95a9903_1219_11eb_b8c5_4c1d961ba359row1_col1\" class=\"data row1 col1\" >3.82%</td>\n            </tr>\n            <tr>\n                        <th id=\"T_c95a9903_1219_11eb_b8c5_4c1d961ba359level0_row2\" class=\"row_heading level0 row2\" >15-19</th>\n                        <td id=\"T_c95a9903_1219_11eb_b8c5_4c1d961ba359row2_col0\" class=\"data row2 col0\" >107</td>\n                        <td id=\"T_c95a9903_1219_11eb_b8c5_4c1d961ba359row2_col1\" class=\"data row2 col1\" >18.58%</td>\n            </tr>\n            <tr>\n                        <th id=\"T_c95a9903_1219_11eb_b8c5_4c1d961ba359level0_row3\" class=\"row_heading level0 row3\" >20-24</th>\n                        <td id=\"T_c95a9903_1219_11eb_b8c5_4c1d961ba359row3_col0\" class=\"data row3 col0\" >258</td>\n                        <td id=\"T_c95a9903_1219_11eb_b8c5_4c1d961ba359row3_col1\" class=\"data row3 col1\" >44.79%</td>\n            </tr>\n            <tr>\n                        <th id=\"T_c95a9903_1219_11eb_b8c5_4c1d961ba359level0_row4\" class=\"row_heading level0 row4\" >25-29</th>\n                        <td id=\"T_c95a9903_1219_11eb_b8c5_4c1d961ba359row4_col0\" class=\"data row4 col0\" >77</td>\n                        <td id=\"T_c95a9903_1219_11eb_b8c5_4c1d961ba359row4_col1\" class=\"data row4 col1\" >13.37%</td>\n            </tr>\n            <tr>\n                        <th id=\"T_c95a9903_1219_11eb_b8c5_4c1d961ba359level0_row5\" class=\"row_heading level0 row5\" >30-34</th>\n                        <td id=\"T_c95a9903_1219_11eb_b8c5_4c1d961ba359row5_col0\" class=\"data row5 col0\" >52</td>\n                        <td id=\"T_c95a9903_1219_11eb_b8c5_4c1d961ba359row5_col1\" class=\"data row5 col1\" >9.03%</td>\n            </tr>\n            <tr>\n                        <th id=\"T_c95a9903_1219_11eb_b8c5_4c1d961ba359level0_row6\" class=\"row_heading level0 row6\" >35-39</th>\n                        <td id=\"T_c95a9903_1219_11eb_b8c5_4c1d961ba359row6_col0\" class=\"data row6 col0\" >31</td>\n                        <td id=\"T_c95a9903_1219_11eb_b8c5_4c1d961ba359row6_col1\" class=\"data row6 col1\" >5.38%</td>\n            </tr>\n            <tr>\n                        <th id=\"T_c95a9903_1219_11eb_b8c5_4c1d961ba359level0_row7\" class=\"row_heading level0 row7\" >40+</th>\n                        <td id=\"T_c95a9903_1219_11eb_b8c5_4c1d961ba359row7_col0\" class=\"data row7 col0\" >12</td>\n                        <td id=\"T_c95a9903_1219_11eb_b8c5_4c1d961ba359row7_col1\" class=\"data row7 col1\" >2.08%</td>\n            </tr>\n    </tbody></table>"
     },
     "metadata": {},
     "execution_count": 87
    }
   ],
   "source": [
    "# Create age bins\n",
    "age_bins = [0, 9, 14, 19, 24, 29, 34, 39, 999]\n",
    "age_names = [\"<10\", \"10-14\", \"15-19\", \"20-24\", \"25-29\", \"30-34\", \"35-39\", \"40+\"]\n",
    "\n",
    "# Create the \"Age Group\" Index\n",
    "purchase_data_df[\"Age Group\"] = pd.cut(purchase_data_df[\"Age\"], age_bins, labels=age_names)\n",
    "# purchase_data_df\n",
    "\n",
    "# Create new data frame group\n",
    "ages_dfg = purchase_data_df.groupby(\"Age Group\")\n",
    "# for key, item in ages_dfg:\n",
    "#    print(ages_dfg.get_group(key))\n",
    "\n",
    "# Get the stats\n",
    "total_age_count = ages_dfg[\"SN\"].nunique()\n",
    "# print(total_age_count)\n",
    "age_bin_percent = total_count_age / player_count * 100\n",
    "\n",
    "# Create the dataframe\n",
    "age_summary_df = pd.DataFrame({\"Total Count\": total_age_count, \"Percentage of Players\": age_bin_percent})\n",
    "age_summary_df.index.name = None\n",
    "age_summary_df.style.format({\"Percentage of Players\": \"{:.2f}%\"})"
   ]
  },
  {
   "cell_type": "markdown",
   "metadata": {},
   "source": [
    "## Purchasing Analysis (Age)"
   ]
  },
  {
   "cell_type": "markdown",
   "metadata": {},
   "source": [
    "* Bin the purchase_data data frame by age\n",
    "\n",
    "\n",
    "* Run basic calculations to obtain purchase count, avg. purchase price, avg. purchase total per person etc. in the table below\n",
    "\n",
    "\n",
    "* Create a summary data frame to hold the results\n",
    "\n",
    "\n",
    "* Optional: give the displayed data cleaner formatting\n",
    "\n",
    "\n",
    "* Display the summary data frame"
   ]
  },
  {
   "cell_type": "code",
   "execution_count": 86,
   "metadata": {},
   "outputs": [
    {
     "output_type": "execute_result",
     "data": {
      "text/plain": [
       "<pandas.io.formats.style.Styler at 0x1e3487dfe80>"
      ],
      "text/html": "<style  type=\"text/css\" >\n</style><table id=\"T_28d452a8_1219_11eb_bdbe_4c1d961ba359\" ><thead>    <tr>        <th class=\"blank level0\" ></th>        <th class=\"col_heading level0 col0\" >Purchase Count</th>        <th class=\"col_heading level0 col1\" >Average Purchase Price</th>        <th class=\"col_heading level0 col2\" >Total Purchase Value</th>        <th class=\"col_heading level0 col3\" >Avg Total Purchase per Person</th>    </tr></thead><tbody>\n                <tr>\n                        <th id=\"T_28d452a8_1219_11eb_bdbe_4c1d961ba359level0_row0\" class=\"row_heading level0 row0\" ><10</th>\n                        <td id=\"T_28d452a8_1219_11eb_bdbe_4c1d961ba359row0_col0\" class=\"data row0 col0\" >23</td>\n                        <td id=\"T_28d452a8_1219_11eb_bdbe_4c1d961ba359row0_col1\" class=\"data row0 col1\" >$3.35</td>\n                        <td id=\"T_28d452a8_1219_11eb_bdbe_4c1d961ba359row0_col2\" class=\"data row0 col2\" >$77.13</td>\n                        <td id=\"T_28d452a8_1219_11eb_bdbe_4c1d961ba359row0_col3\" class=\"data row0 col3\" >$4.54</td>\n            </tr>\n            <tr>\n                        <th id=\"T_28d452a8_1219_11eb_bdbe_4c1d961ba359level0_row1\" class=\"row_heading level0 row1\" >10-14</th>\n                        <td id=\"T_28d452a8_1219_11eb_bdbe_4c1d961ba359row1_col0\" class=\"data row1 col0\" >28</td>\n                        <td id=\"T_28d452a8_1219_11eb_bdbe_4c1d961ba359row1_col1\" class=\"data row1 col1\" >$2.96</td>\n                        <td id=\"T_28d452a8_1219_11eb_bdbe_4c1d961ba359row1_col2\" class=\"data row1 col2\" >$82.78</td>\n                        <td id=\"T_28d452a8_1219_11eb_bdbe_4c1d961ba359row1_col3\" class=\"data row1 col3\" >$3.76</td>\n            </tr>\n            <tr>\n                        <th id=\"T_28d452a8_1219_11eb_bdbe_4c1d961ba359level0_row2\" class=\"row_heading level0 row2\" >15-19</th>\n                        <td id=\"T_28d452a8_1219_11eb_bdbe_4c1d961ba359row2_col0\" class=\"data row2 col0\" >136</td>\n                        <td id=\"T_28d452a8_1219_11eb_bdbe_4c1d961ba359row2_col1\" class=\"data row2 col1\" >$3.04</td>\n                        <td id=\"T_28d452a8_1219_11eb_bdbe_4c1d961ba359row2_col2\" class=\"data row2 col2\" >$412.89</td>\n                        <td id=\"T_28d452a8_1219_11eb_bdbe_4c1d961ba359row2_col3\" class=\"data row2 col3\" >$3.86</td>\n            </tr>\n            <tr>\n                        <th id=\"T_28d452a8_1219_11eb_bdbe_4c1d961ba359level0_row3\" class=\"row_heading level0 row3\" >20-24</th>\n                        <td id=\"T_28d452a8_1219_11eb_bdbe_4c1d961ba359row3_col0\" class=\"data row3 col0\" >365</td>\n                        <td id=\"T_28d452a8_1219_11eb_bdbe_4c1d961ba359row3_col1\" class=\"data row3 col1\" >$3.05</td>\n                        <td id=\"T_28d452a8_1219_11eb_bdbe_4c1d961ba359row3_col2\" class=\"data row3 col2\" >$1114.06</td>\n                        <td id=\"T_28d452a8_1219_11eb_bdbe_4c1d961ba359row3_col3\" class=\"data row3 col3\" >$4.32</td>\n            </tr>\n            <tr>\n                        <th id=\"T_28d452a8_1219_11eb_bdbe_4c1d961ba359level0_row4\" class=\"row_heading level0 row4\" >25-29</th>\n                        <td id=\"T_28d452a8_1219_11eb_bdbe_4c1d961ba359row4_col0\" class=\"data row4 col0\" >101</td>\n                        <td id=\"T_28d452a8_1219_11eb_bdbe_4c1d961ba359row4_col1\" class=\"data row4 col1\" >$2.90</td>\n                        <td id=\"T_28d452a8_1219_11eb_bdbe_4c1d961ba359row4_col2\" class=\"data row4 col2\" >$293.00</td>\n                        <td id=\"T_28d452a8_1219_11eb_bdbe_4c1d961ba359row4_col3\" class=\"data row4 col3\" >$3.81</td>\n            </tr>\n            <tr>\n                        <th id=\"T_28d452a8_1219_11eb_bdbe_4c1d961ba359level0_row5\" class=\"row_heading level0 row5\" >30-34</th>\n                        <td id=\"T_28d452a8_1219_11eb_bdbe_4c1d961ba359row5_col0\" class=\"data row5 col0\" >73</td>\n                        <td id=\"T_28d452a8_1219_11eb_bdbe_4c1d961ba359row5_col1\" class=\"data row5 col1\" >$2.93</td>\n                        <td id=\"T_28d452a8_1219_11eb_bdbe_4c1d961ba359row5_col2\" class=\"data row5 col2\" >$214.00</td>\n                        <td id=\"T_28d452a8_1219_11eb_bdbe_4c1d961ba359row5_col3\" class=\"data row5 col3\" >$4.12</td>\n            </tr>\n            <tr>\n                        <th id=\"T_28d452a8_1219_11eb_bdbe_4c1d961ba359level0_row6\" class=\"row_heading level0 row6\" >35-39</th>\n                        <td id=\"T_28d452a8_1219_11eb_bdbe_4c1d961ba359row6_col0\" class=\"data row6 col0\" >41</td>\n                        <td id=\"T_28d452a8_1219_11eb_bdbe_4c1d961ba359row6_col1\" class=\"data row6 col1\" >$3.60</td>\n                        <td id=\"T_28d452a8_1219_11eb_bdbe_4c1d961ba359row6_col2\" class=\"data row6 col2\" >$147.67</td>\n                        <td id=\"T_28d452a8_1219_11eb_bdbe_4c1d961ba359row6_col3\" class=\"data row6 col3\" >$4.76</td>\n            </tr>\n            <tr>\n                        <th id=\"T_28d452a8_1219_11eb_bdbe_4c1d961ba359level0_row7\" class=\"row_heading level0 row7\" >40+</th>\n                        <td id=\"T_28d452a8_1219_11eb_bdbe_4c1d961ba359row7_col0\" class=\"data row7 col0\" >13</td>\n                        <td id=\"T_28d452a8_1219_11eb_bdbe_4c1d961ba359row7_col1\" class=\"data row7 col1\" >$2.94</td>\n                        <td id=\"T_28d452a8_1219_11eb_bdbe_4c1d961ba359row7_col2\" class=\"data row7 col2\" >$38.24</td>\n                        <td id=\"T_28d452a8_1219_11eb_bdbe_4c1d961ba359row7_col3\" class=\"data row7 col3\" >$3.19</td>\n            </tr>\n    </tbody></table>"
     },
     "metadata": {},
     "execution_count": 86
    }
   ],
   "source": [
    "# Create new data frame group\n",
    "purchase_analysis_dfg = purchase_data_df.groupby(\"Age Group\")\n",
    "\n",
    "# Get the stats\n",
    "purchase_analysis_count = purchase_analysis_dfg[\"Purchase ID\"].nunique()\n",
    "purchase_analysis_avg_pp = purchase_analysis_dfg[\"Price\"].mean()\n",
    "purchase_analysis_tot_pp = purchase_analysis_dfg[\"Price\"].sum()\n",
    "purchase_analysis_avg_tot_pp = purchase_analysis_tot_pp / total_age_count\n",
    "\n",
    "# Create the dataframe\n",
    "age_analysis_df = pd.DataFrame({\n",
    "                                \"Purchase Count\": purchase_analysis_count, \n",
    "                                \"Average Purchase Price\": purchase_analysis_avg_pp,\n",
    "                                \"Total Purchase Value\": purchase_analysis_tot_pp,\n",
    "                                \"Avg Total Purchase per Person\": purchase_analysis_avg_tot_pp\n",
    "                              })\n",
    "\n",
    "# Print the new dataframe\n",
    "age_analysis_df.index.name = None\n",
    "age_analysis_df.style.format({\n",
    "                                \"Average Purchase Price\": \"${:.2f}\",\n",
    "                                \"Total Purchase Value\": \"${:.2f}\",\n",
    "                                \"Avg Total Purchase per Person\": \"${:.2f}\"\n",
    "                             })"
   ]
  },
  {
   "cell_type": "markdown",
   "metadata": {},
   "source": [
    "## Top Spenders"
   ]
  },
  {
   "cell_type": "markdown",
   "metadata": {},
   "source": [
    "* Run basic calculations to obtain the results in the table below\n",
    "\n",
    "\n",
    "* Create a summary data frame to hold the results\n",
    "\n",
    "\n",
    "* Sort the total purchase value column in descending order\n",
    "\n",
    "\n",
    "* Optional: give the displayed data cleaner formatting\n",
    "\n",
    "\n",
    "* Display a preview of the summary data frame\n",
    "\n"
   ]
  },
  {
   "cell_type": "code",
   "execution_count": 8,
   "metadata": {},
   "outputs": [
    {
     "data": {
      "text/html": [
       "<div>\n",
       "<style scoped>\n",
       "    .dataframe tbody tr th:only-of-type {\n",
       "        vertical-align: middle;\n",
       "    }\n",
       "\n",
       "    .dataframe tbody tr th {\n",
       "        vertical-align: top;\n",
       "    }\n",
       "\n",
       "    .dataframe thead th {\n",
       "        text-align: right;\n",
       "    }\n",
       "</style>\n",
       "<table border=\"1\" class=\"dataframe\">\n",
       "  <thead>\n",
       "    <tr style=\"text-align: right;\">\n",
       "      <th></th>\n",
       "      <th>Purchase Count</th>\n",
       "      <th>Average Purchase Price</th>\n",
       "      <th>Total Purchase Value</th>\n",
       "    </tr>\n",
       "    <tr>\n",
       "      <th>SN</th>\n",
       "      <th></th>\n",
       "      <th></th>\n",
       "      <th></th>\n",
       "    </tr>\n",
       "  </thead>\n",
       "  <tbody>\n",
       "    <tr>\n",
       "      <th>Lisosia93</th>\n",
       "      <td>5</td>\n",
       "      <td>$3.79</td>\n",
       "      <td>$18.96</td>\n",
       "    </tr>\n",
       "    <tr>\n",
       "      <th>Idastidru52</th>\n",
       "      <td>4</td>\n",
       "      <td>$3.86</td>\n",
       "      <td>$15.45</td>\n",
       "    </tr>\n",
       "    <tr>\n",
       "      <th>Chamjask73</th>\n",
       "      <td>3</td>\n",
       "      <td>$4.61</td>\n",
       "      <td>$13.83</td>\n",
       "    </tr>\n",
       "    <tr>\n",
       "      <th>Iral74</th>\n",
       "      <td>4</td>\n",
       "      <td>$3.40</td>\n",
       "      <td>$13.62</td>\n",
       "    </tr>\n",
       "    <tr>\n",
       "      <th>Iskadarya95</th>\n",
       "      <td>3</td>\n",
       "      <td>$4.37</td>\n",
       "      <td>$13.10</td>\n",
       "    </tr>\n",
       "  </tbody>\n",
       "</table>\n",
       "</div>"
      ],
      "text/plain": [
       "             Purchase Count Average Purchase Price Total Purchase Value\n",
       "SN                                                                     \n",
       "Lisosia93                 5                  $3.79               $18.96\n",
       "Idastidru52               4                  $3.86               $15.45\n",
       "Chamjask73                3                  $4.61               $13.83\n",
       "Iral74                    4                  $3.40               $13.62\n",
       "Iskadarya95               3                  $4.37               $13.10"
      ]
     },
     "execution_count": 8,
     "metadata": {},
     "output_type": "execute_result"
    }
   ],
   "source": []
  },
  {
   "cell_type": "markdown",
   "metadata": {},
   "source": [
    "## Most Popular Items"
   ]
  },
  {
   "cell_type": "markdown",
   "metadata": {},
   "source": [
    "* Retrieve the Item ID, Item Name, and Item Price columns\n",
    "\n",
    "\n",
    "* Group by Item ID and Item Name. Perform calculations to obtain purchase count, average item price, and total purchase value\n",
    "\n",
    "\n",
    "* Create a summary data frame to hold the results\n",
    "\n",
    "\n",
    "* Sort the purchase count column in descending order\n",
    "\n",
    "\n",
    "* Optional: give the displayed data cleaner formatting\n",
    "\n",
    "\n",
    "* Display a preview of the summary data frame\n",
    "\n"
   ]
  },
  {
   "cell_type": "code",
   "execution_count": 9,
   "metadata": {},
   "outputs": [
    {
     "data": {
      "text/html": [
       "<div>\n",
       "<style scoped>\n",
       "    .dataframe tbody tr th:only-of-type {\n",
       "        vertical-align: middle;\n",
       "    }\n",
       "\n",
       "    .dataframe tbody tr th {\n",
       "        vertical-align: top;\n",
       "    }\n",
       "\n",
       "    .dataframe thead th {\n",
       "        text-align: right;\n",
       "    }\n",
       "</style>\n",
       "<table border=\"1\" class=\"dataframe\">\n",
       "  <thead>\n",
       "    <tr style=\"text-align: right;\">\n",
       "      <th></th>\n",
       "      <th></th>\n",
       "      <th>Purchase Count</th>\n",
       "      <th>Item Price</th>\n",
       "      <th>Total Purchase Value</th>\n",
       "    </tr>\n",
       "    <tr>\n",
       "      <th>Item ID</th>\n",
       "      <th>Item Name</th>\n",
       "      <th></th>\n",
       "      <th></th>\n",
       "      <th></th>\n",
       "    </tr>\n",
       "  </thead>\n",
       "  <tbody>\n",
       "    <tr>\n",
       "      <th>92</th>\n",
       "      <th>Final Critic</th>\n",
       "      <td>13</td>\n",
       "      <td>$4.61</td>\n",
       "      <td>$59.99</td>\n",
       "    </tr>\n",
       "    <tr>\n",
       "      <th>178</th>\n",
       "      <th>Oathbreaker, Last Hope of the Breaking Storm</th>\n",
       "      <td>12</td>\n",
       "      <td>$4.23</td>\n",
       "      <td>$50.76</td>\n",
       "    </tr>\n",
       "    <tr>\n",
       "      <th>145</th>\n",
       "      <th>Fiery Glass Crusader</th>\n",
       "      <td>9</td>\n",
       "      <td>$4.58</td>\n",
       "      <td>$41.22</td>\n",
       "    </tr>\n",
       "    <tr>\n",
       "      <th>132</th>\n",
       "      <th>Persuasion</th>\n",
       "      <td>9</td>\n",
       "      <td>$3.22</td>\n",
       "      <td>$28.99</td>\n",
       "    </tr>\n",
       "    <tr>\n",
       "      <th>108</th>\n",
       "      <th>Extraction, Quickblade Of Trembling Hands</th>\n",
       "      <td>9</td>\n",
       "      <td>$3.53</td>\n",
       "      <td>$31.77</td>\n",
       "    </tr>\n",
       "  </tbody>\n",
       "</table>\n",
       "</div>"
      ],
      "text/plain": [
       "                                                     Purchase Count  \\\n",
       "Item ID Item Name                                                     \n",
       "92      Final Critic                                             13   \n",
       "178     Oathbreaker, Last Hope of the Breaking Storm             12   \n",
       "145     Fiery Glass Crusader                                      9   \n",
       "132     Persuasion                                                9   \n",
       "108     Extraction, Quickblade Of Trembling Hands                 9   \n",
       "\n",
       "                                                     Item Price  \\\n",
       "Item ID Item Name                                                 \n",
       "92      Final Critic                                      $4.61   \n",
       "178     Oathbreaker, Last Hope of the Breaking Storm      $4.23   \n",
       "145     Fiery Glass Crusader                              $4.58   \n",
       "132     Persuasion                                        $3.22   \n",
       "108     Extraction, Quickblade Of Trembling Hands         $3.53   \n",
       "\n",
       "                                                     Total Purchase Value  \n",
       "Item ID Item Name                                                          \n",
       "92      Final Critic                                               $59.99  \n",
       "178     Oathbreaker, Last Hope of the Breaking Storm               $50.76  \n",
       "145     Fiery Glass Crusader                                       $41.22  \n",
       "132     Persuasion                                                 $28.99  \n",
       "108     Extraction, Quickblade Of Trembling Hands                  $31.77  "
      ]
     },
     "execution_count": 9,
     "metadata": {},
     "output_type": "execute_result"
    }
   ],
   "source": []
  },
  {
   "cell_type": "markdown",
   "metadata": {},
   "source": [
    "## Most Profitable Items"
   ]
  },
  {
   "cell_type": "markdown",
   "metadata": {},
   "source": [
    "* Sort the above table by total purchase value in descending order\n",
    "\n",
    "\n",
    "* Optional: give the displayed data cleaner formatting\n",
    "\n",
    "\n",
    "* Display a preview of the data frame\n",
    "\n"
   ]
  },
  {
   "cell_type": "code",
   "execution_count": 10,
   "metadata": {
    "scrolled": true
   },
   "outputs": [
    {
     "data": {
      "text/html": [
       "<div>\n",
       "<style scoped>\n",
       "    .dataframe tbody tr th:only-of-type {\n",
       "        vertical-align: middle;\n",
       "    }\n",
       "\n",
       "    .dataframe tbody tr th {\n",
       "        vertical-align: top;\n",
       "    }\n",
       "\n",
       "    .dataframe thead th {\n",
       "        text-align: right;\n",
       "    }\n",
       "</style>\n",
       "<table border=\"1\" class=\"dataframe\">\n",
       "  <thead>\n",
       "    <tr style=\"text-align: right;\">\n",
       "      <th></th>\n",
       "      <th></th>\n",
       "      <th>Purchase Count</th>\n",
       "      <th>Item Price</th>\n",
       "      <th>Total Purchase Value</th>\n",
       "    </tr>\n",
       "    <tr>\n",
       "      <th>Item ID</th>\n",
       "      <th>Item Name</th>\n",
       "      <th></th>\n",
       "      <th></th>\n",
       "      <th></th>\n",
       "    </tr>\n",
       "  </thead>\n",
       "  <tbody>\n",
       "    <tr>\n",
       "      <th>92</th>\n",
       "      <th>Final Critic</th>\n",
       "      <td>13</td>\n",
       "      <td>$4.61</td>\n",
       "      <td>$59.99</td>\n",
       "    </tr>\n",
       "    <tr>\n",
       "      <th>178</th>\n",
       "      <th>Oathbreaker, Last Hope of the Breaking Storm</th>\n",
       "      <td>12</td>\n",
       "      <td>$4.23</td>\n",
       "      <td>$50.76</td>\n",
       "    </tr>\n",
       "    <tr>\n",
       "      <th>82</th>\n",
       "      <th>Nirvana</th>\n",
       "      <td>9</td>\n",
       "      <td>$4.90</td>\n",
       "      <td>$44.10</td>\n",
       "    </tr>\n",
       "    <tr>\n",
       "      <th>145</th>\n",
       "      <th>Fiery Glass Crusader</th>\n",
       "      <td>9</td>\n",
       "      <td>$4.58</td>\n",
       "      <td>$41.22</td>\n",
       "    </tr>\n",
       "    <tr>\n",
       "      <th>103</th>\n",
       "      <th>Singed Scalpel</th>\n",
       "      <td>8</td>\n",
       "      <td>$4.35</td>\n",
       "      <td>$34.80</td>\n",
       "    </tr>\n",
       "  </tbody>\n",
       "</table>\n",
       "</div>"
      ],
      "text/plain": [
       "                                                     Purchase Count  \\\n",
       "Item ID Item Name                                                     \n",
       "92      Final Critic                                             13   \n",
       "178     Oathbreaker, Last Hope of the Breaking Storm             12   \n",
       "82      Nirvana                                                   9   \n",
       "145     Fiery Glass Crusader                                      9   \n",
       "103     Singed Scalpel                                            8   \n",
       "\n",
       "                                                     Item Price  \\\n",
       "Item ID Item Name                                                 \n",
       "92      Final Critic                                      $4.61   \n",
       "178     Oathbreaker, Last Hope of the Breaking Storm      $4.23   \n",
       "82      Nirvana                                           $4.90   \n",
       "145     Fiery Glass Crusader                              $4.58   \n",
       "103     Singed Scalpel                                    $4.35   \n",
       "\n",
       "                                                     Total Purchase Value  \n",
       "Item ID Item Name                                                          \n",
       "92      Final Critic                                               $59.99  \n",
       "178     Oathbreaker, Last Hope of the Breaking Storm               $50.76  \n",
       "82      Nirvana                                                    $44.10  \n",
       "145     Fiery Glass Crusader                                       $41.22  \n",
       "103     Singed Scalpel                                             $34.80  "
      ]
     },
     "execution_count": 10,
     "metadata": {},
     "output_type": "execute_result"
    }
   ],
   "source": []
  }
 ],
 "metadata": {
  "anaconda-cloud": {},
  "kernel_info": {
   "name": "python3"
  },
  "kernelspec": {
   "display_name": "Python 3",
   "language": "python",
   "name": "python3"
  },
  "language_info": {
   "codemirror_mode": {
    "name": "ipython",
    "version": 3
   },
   "file_extension": ".py",
   "mimetype": "text/x-python",
   "name": "python",
   "nbconvert_exporter": "python",
   "pygments_lexer": "ipython3",
   "version": "3.8.3-final"
  },
  "latex_envs": {
   "LaTeX_envs_menu_present": true,
   "autoclose": false,
   "autocomplete": true,
   "bibliofile": "biblio.bib",
   "cite_by": "apalike",
   "current_citInitial": 1,
   "eqLabelWithNumbers": true,
   "eqNumInitial": 1,
   "hotkeys": {
    "equation": "Ctrl-E",
    "itemize": "Ctrl-I"
   },
   "labels_anchors": false,
   "latex_user_defs": false,
   "report_style_numbering": false,
   "user_envs_cfg": false
  },
  "nteract": {
   "version": "0.2.0"
  }
 },
 "nbformat": 4,
 "nbformat_minor": 2
}