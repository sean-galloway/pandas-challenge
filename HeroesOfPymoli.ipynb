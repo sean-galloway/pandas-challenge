{
 "cells": [
  {
   "cell_type": "markdown",
   "metadata": {},
   "source": [
    "### Note\n",
    "* Comments detailing the flow have been included for each segment."
   ]
  },
  {
   "cell_type": "code",
   "execution_count": 59,
   "metadata": {},
   "outputs": [],
   "source": [
    "# Dependencies and Setup\n",
    "import pandas as pd\n",
    "import pprint         # this is only needed for debug\n",
    "\n",
    "# File to Load (Remember to Change These)\n",
    "file_to_load = \"Resources/purchase_data.csv\"\n",
    "pp = pprint.PrettyPrinter(indent=4)\n",
    "\n",
    "# Read Purchasing File and store into Pandas data frame\n",
    "purchase_data_df = pd.read_csv(file_to_load)"
   ]
  },
  {
   "cell_type": "markdown",
   "metadata": {},
   "source": [
    "## Player Count"
   ]
  },
  {
   "cell_type": "markdown",
   "metadata": {},
   "source": [
    "* Display the total number of players\n"
   ]
  },
  {
   "cell_type": "code",
   "execution_count": 60,
   "metadata": {},
   "outputs": [
    {
     "output_type": "execute_result",
     "data": {
      "text/plain": [
       "   Total Players\n",
       "0            576"
      ],
      "text/html": "<div>\n<style scoped>\n    .dataframe tbody tr th:only-of-type {\n        vertical-align: middle;\n    }\n\n    .dataframe tbody tr th {\n        vertical-align: top;\n    }\n\n    .dataframe thead th {\n        text-align: right;\n    }\n</style>\n<table border=\"1\" class=\"dataframe\">\n  <thead>\n    <tr style=\"text-align: right;\">\n      <th></th>\n      <th>Total Players</th>\n    </tr>\n  </thead>\n  <tbody>\n    <tr>\n      <th>0</th>\n      <td>576</td>\n    </tr>\n  </tbody>\n</table>\n</div>"
     },
     "metadata": {},
     "execution_count": 60
    }
   ],
   "source": [
    "# Find the number of screen names \"SN\", for player count\n",
    "player_count = len(purchase_data_df[\"SN\"].unique())\n",
    "# print(player_count)\n",
    "\n",
    "# Create a data frame\n",
    "player_count_df = pd.DataFrame({\"Total Players\": [player_count]})\n",
    "player_count_df"
   ]
  },
  {
   "cell_type": "markdown",
   "metadata": {},
   "source": [
    "## Purchasing Analysis (Total)"
   ]
  },
  {
   "cell_type": "markdown",
   "metadata": {},
   "source": [
    "* Run basic calculations to obtain number of unique items, average price, etc.\n",
    "\n",
    "\n",
    "* Create a summary data frame to hold the results\n",
    "\n",
    "\n",
    "* Optional: give the displayed data cleaner formatting\n",
    "\n",
    "\n",
    "* Display the summary data frame\n"
   ]
  },
  {
   "cell_type": "code",
   "execution_count": 61,
   "metadata": {
    "scrolled": true
   },
   "outputs": [
    {
     "output_type": "execute_result",
     "data": {
      "text/plain": [
       "<pandas.io.formats.style.Styler at 0x1e342453160>"
      ],
      "text/html": "<style  type=\"text/css\" >\n</style><table id=\"T_4c57e00f_11ad_11eb_819a_4c1d961ba359\" ><thead>    <tr>        <th class=\"blank level0\" ></th>        <th class=\"col_heading level0 col0\" >Number of Unique Items</th>        <th class=\"col_heading level0 col1\" >Average Price</th>        <th class=\"col_heading level0 col2\" >Number of Purchases</th>        <th class=\"col_heading level0 col3\" >Total Revenue</th>    </tr></thead><tbody>\n                <tr>\n                        <th id=\"T_4c57e00f_11ad_11eb_819a_4c1d961ba359level0_row0\" class=\"row_heading level0 row0\" >0</th>\n                        <td id=\"T_4c57e00f_11ad_11eb_819a_4c1d961ba359row0_col0\" class=\"data row0 col0\" >179</td>\n                        <td id=\"T_4c57e00f_11ad_11eb_819a_4c1d961ba359row0_col1\" class=\"data row0 col1\" >$3.05</td>\n                        <td id=\"T_4c57e00f_11ad_11eb_819a_4c1d961ba359row0_col2\" class=\"data row0 col2\" >780</td>\n                        <td id=\"T_4c57e00f_11ad_11eb_819a_4c1d961ba359row0_col3\" class=\"data row0 col3\" >$2,379.77</td>\n            </tr>\n    </tbody></table>"
     },
     "metadata": {},
     "execution_count": 61
    }
   ],
   "source": [
    "# find unique items, average price, purchase count, and revenue\n",
    "count_unique_items = len(purchase_data_df[\"Item ID\"].unique())\n",
    "average_price = purchase_data_df[\"Price\"].mean()\n",
    "count_purchases = purchase_data_df[\"Purchase ID\"].count()\n",
    "total_revenue = purchase_data_df[\"Price\"].sum()\n",
    "\n",
    "# create data frame with specific columns\n",
    "summary_df = pd.DataFrame({\"Number of Unique Items\": [count_unique_items],\n",
    "                           \"Average Price\": [average_price], \n",
    "                           \"Number of Purchases\": [count_purchases], \n",
    "                           \"Total Revenue\": [total_revenue]\n",
    "                         })\n",
    "\n",
    "# format as currency\n",
    "summary_df.style.format({\"Average Price\":'${:,.2f}',\n",
    "                         \"Total Revenue\": '${:,.2f}'\n",
    "                       })"
   ]
  },
  {
   "cell_type": "markdown",
   "metadata": {},
   "source": [
    "## Gender Demographics"
   ]
  },
  {
   "cell_type": "markdown",
   "metadata": {},
   "source": [
    "* Percentage and Count of Male Players\n",
    "\n",
    "\n",
    "* Percentage and Count of Female Players\n",
    "\n",
    "\n",
    "* Percentage and Count of Other / Non-Disclosed\n",
    "\n",
    "\n"
   ]
  },
  {
   "cell_type": "code",
   "execution_count": 62,
   "metadata": {},
   "outputs": [
    {
     "output_type": "execute_result",
     "data": {
      "text/plain": [
       "<pandas.io.formats.style.Styler at 0x1e33f90d220>"
      ],
      "text/html": "<style  type=\"text/css\" >\n</style><table id=\"T_7ceb3722_11ad_11eb_ba59_4c1d961ba359\" ><thead>    <tr>        <th class=\"blank level0\" ></th>        <th class=\"col_heading level0 col0\" >Total Count</th>        <th class=\"col_heading level0 col1\" >Percentage of Players</th>    </tr></thead><tbody>\n                <tr>\n                        <th id=\"T_7ceb3722_11ad_11eb_ba59_4c1d961ba359level0_row0\" class=\"row_heading level0 row0\" >Male</th>\n                        <td id=\"T_7ceb3722_11ad_11eb_ba59_4c1d961ba359row0_col0\" class=\"data row0 col0\" >484</td>\n                        <td id=\"T_7ceb3722_11ad_11eb_ba59_4c1d961ba359row0_col1\" class=\"data row0 col1\" >84.03%</td>\n            </tr>\n            <tr>\n                        <th id=\"T_7ceb3722_11ad_11eb_ba59_4c1d961ba359level0_row1\" class=\"row_heading level0 row1\" >Female</th>\n                        <td id=\"T_7ceb3722_11ad_11eb_ba59_4c1d961ba359row1_col0\" class=\"data row1 col0\" >81</td>\n                        <td id=\"T_7ceb3722_11ad_11eb_ba59_4c1d961ba359row1_col1\" class=\"data row1 col1\" >14.06%</td>\n            </tr>\n            <tr>\n                        <th id=\"T_7ceb3722_11ad_11eb_ba59_4c1d961ba359level0_row2\" class=\"row_heading level0 row2\" >Other / Non-Disclosed</th>\n                        <td id=\"T_7ceb3722_11ad_11eb_ba59_4c1d961ba359row2_col0\" class=\"data row2 col0\" >11</td>\n                        <td id=\"T_7ceb3722_11ad_11eb_ba59_4c1d961ba359row2_col1\" class=\"data row2 col1\" >1.91%</td>\n            </tr>\n    </tbody></table>"
     },
     "metadata": {},
     "execution_count": 62
    }
   ],
   "source": [
    "# get a gender data frame group\n",
    "gender_dfg = purchase_data_df.groupby(\"Gender\")\n",
    "# for key, item in gender_dfg:\n",
    "#     print(gender_dfg.get_group(key))\n",
    "\n",
    "# total screen names by gender\n",
    "total_gender_dfu = gender_dfg.nunique()[\"SN\"]\n",
    "# print(total_gender_dfu)\n",
    "\n",
    "# find player percentage \n",
    "percent_of_players_dfu = total_gender_dfu / player_count * 100\n",
    "# print(percent_of_players_dfu)\n",
    "\n",
    "# Create data frame\n",
    "gender_demo_df = pd.DataFrame({\"Total Count\": total_gender_dfu, \"Percentage of Players\": percent_of_players_dfu})\n",
    "gender_demo_df.index.name = None\n",
    "\n",
    "# Format the values sorted by total count in descending order, and two decimal places for the percentage\n",
    "gender_demo_df.sort_values([\"Total Count\"], ascending = False).style.format({\"Percentage of Players\":\"{:.2f}%\"})"
   ]
  },
  {
   "cell_type": "markdown",
   "metadata": {},
   "source": [
    "\n",
    "## Purchasing Analysis (Gender)"
   ]
  },
  {
   "cell_type": "markdown",
   "metadata": {},
   "source": [
    "* Run basic calculations to obtain purchase count, avg. purchase price, avg. purchase total per person etc. by gender\n",
    "\n",
    "\n",
    "\n",
    "\n",
    "* Create a summary data frame to hold the results\n",
    "\n",
    "\n",
    "* Optional: give the displayed data cleaner formatting\n",
    "\n",
    "\n",
    "* Display the summary data frame"
   ]
  },
  {
   "cell_type": "code",
   "execution_count": 63,
   "metadata": {},
   "outputs": [
    {
     "output_type": "execute_result",
     "data": {
      "text/plain": [
       "<pandas.io.formats.style.Styler at 0x1e3437cea30>"
      ],
      "text/html": "<style  type=\"text/css\" >\n</style><table id=\"T_9dcdc2aa_11ad_11eb_aca0_4c1d961ba359\" ><thead>    <tr>        <th class=\"blank level0\" ></th>        <th class=\"col_heading level0 col0\" >Purchase Count</th>        <th class=\"col_heading level0 col1\" >Average Purchase Price</th>        <th class=\"col_heading level0 col2\" >Average Purchase Value</th>        <th class=\"col_heading level0 col3\" >Avg Purchase Total per Person</th>    </tr>    <tr>        <th class=\"index_name level0\" >Gender</th>        <th class=\"blank\" ></th>        <th class=\"blank\" ></th>        <th class=\"blank\" ></th>        <th class=\"blank\" ></th>    </tr></thead><tbody>\n                <tr>\n                        <th id=\"T_9dcdc2aa_11ad_11eb_aca0_4c1d961ba359level0_row0\" class=\"row_heading level0 row0\" >Female</th>\n                        <td id=\"T_9dcdc2aa_11ad_11eb_aca0_4c1d961ba359row0_col0\" class=\"data row0 col0\" >113</td>\n                        <td id=\"T_9dcdc2aa_11ad_11eb_aca0_4c1d961ba359row0_col1\" class=\"data row0 col1\" >$3.20</td>\n                        <td id=\"T_9dcdc2aa_11ad_11eb_aca0_4c1d961ba359row0_col2\" class=\"data row0 col2\" >$361.94</td>\n                        <td id=\"T_9dcdc2aa_11ad_11eb_aca0_4c1d961ba359row0_col3\" class=\"data row0 col3\" >$4.47</td>\n            </tr>\n            <tr>\n                        <th id=\"T_9dcdc2aa_11ad_11eb_aca0_4c1d961ba359level0_row1\" class=\"row_heading level0 row1\" >Male</th>\n                        <td id=\"T_9dcdc2aa_11ad_11eb_aca0_4c1d961ba359row1_col0\" class=\"data row1 col0\" >652</td>\n                        <td id=\"T_9dcdc2aa_11ad_11eb_aca0_4c1d961ba359row1_col1\" class=\"data row1 col1\" >$3.02</td>\n                        <td id=\"T_9dcdc2aa_11ad_11eb_aca0_4c1d961ba359row1_col2\" class=\"data row1 col2\" >$1,967.64</td>\n                        <td id=\"T_9dcdc2aa_11ad_11eb_aca0_4c1d961ba359row1_col3\" class=\"data row1 col3\" >$4.07</td>\n            </tr>\n            <tr>\n                        <th id=\"T_9dcdc2aa_11ad_11eb_aca0_4c1d961ba359level0_row2\" class=\"row_heading level0 row2\" >Other / Non-Disclosed</th>\n                        <td id=\"T_9dcdc2aa_11ad_11eb_aca0_4c1d961ba359row2_col0\" class=\"data row2 col0\" >15</td>\n                        <td id=\"T_9dcdc2aa_11ad_11eb_aca0_4c1d961ba359row2_col1\" class=\"data row2 col1\" >$3.35</td>\n                        <td id=\"T_9dcdc2aa_11ad_11eb_aca0_4c1d961ba359row2_col2\" class=\"data row2 col2\" >$50.19</td>\n                        <td id=\"T_9dcdc2aa_11ad_11eb_aca0_4c1d961ba359row2_col3\" class=\"data row2 col3\" >$4.56</td>\n            </tr>\n    </tbody></table>"
     },
     "metadata": {},
     "execution_count": 63
    }
   ],
   "source": [
    "# Get the stats from the gender data frame \n",
    "purchase_count = gender_dfg[\"Purchase ID\"].count()\n",
    "avg_purchase_price = gender_dfg[\"Price\"].mean()\n",
    "avg_purchase_total = gender_dfg[\"Price\"].sum()\n",
    "avg_purchase_per_person = avg_purchase_total / total_gender\n",
    "\n",
    "# Create data frame with the values above \n",
    "gender_demo_df = pd.DataFrame({\"Purchase Count\": purchase_count, \n",
    "                               \"Average Purchase Price\": avg_purchase_price,\n",
    "                               \"Average Purchase Value\":avg_purchase_total,\n",
    "                               \"Avg Purchase Total per Person\": avg_purchase_per_person\n",
    "                             })\n",
    "\n",
    "# Make index in top left as \"Gender\"\n",
    "gender_demo_df.index.name = \"Gender\"\n",
    "\n",
    "# Format with currency style\n",
    "gender_demo_df.style.format({\n",
    "                                \"Average Purchase Price\":\"${:,.2f}\",\n",
    "                                \"Average Purchase Value\":\"${:,.2f}\",\n",
    "                                \"Avg Purchase Total per Person\":\"${:,.2f}\"\n",
    "                            })"
   ]
  },
  {
   "cell_type": "markdown",
   "metadata": {},
   "source": [
    "## Age Demographics"
   ]
  },
  {
   "cell_type": "markdown",
   "metadata": {},
   "source": [
    "* Establish bins for ages\n",
    "\n",
    "\n",
    "* Categorize the existing players using the age bins. Hint: use pd.cut()\n",
    "\n",
    "\n",
    "* Calculate the numbers and percentages by age group\n",
    "\n",
    "\n",
    "* Create a summary data frame to hold the results\n",
    "\n",
    "\n",
    "* Optional: round the percentage column to two decimal points\n",
    "\n",
    "\n",
    "* Display Age Demographics Table\n"
   ]
  },
  {
   "cell_type": "code",
   "execution_count": 69,
   "metadata": {
    "tags": [
     "outputPrepend"
    ]
   },
   "outputs": [
    {
     "output_type": "stream",
     "name": "stdout",
     "text": [
      "            78   Haillyrgue51    7    Male       50   \n81            81       Heudai45    8  Female      174   \n187          187     Tyeurith29    8    Male       11   \n272          272   Anallorgue57    8    Male      133   \n311          311   Anallorgue57    8    Male       71   \n339          339        Ilmol66    8  Female      124   \n446          446   Chanossast57    7  Female      119   \n481          481     Sondossa69    7    Male      179   \n486          486   Eurithphos97    9    Male       53   \n515          515   Haillyrgue51    7    Male       40   \n546          546     Sondadar26    9    Male      159   \n575          575     Sondadar26    9    Male      137   \n610          610  Frichossala54    7    Male      159   \n658          658     Quilassa66    7  Female      178   \n672          672      Ililsan66    9    Male      122   \n686          686     Chadjask77    8    Male      147   \n692          692    Quaecjask96    9    Male       78   \n732          732   Eurithphos97    9    Male       97   \n767          767        Ilmol66    8  Female       92   \n778          778        Sisur91    7    Male       92   \n\n                                        Item Name  Price Age Group  \n27                    Blood-Forged Skeletal Spine  3.09%       <10  \n33                          Bonecarvin Battle Axe  2.38%       <10  \n37                                    Ritual Mace  2.05%       <10  \n78                                           Dawn  4.60%       <10  \n81                                Primitive Blade  3.47%       <10  \n187                                     Brimstone  3.65%       <10  \n272                              Faith's Scimitar  4.09%       <10  \n311                                        Demise  1.61%       <10  \n339                                Venom Claymore  1.29%       <10  \n446     Stormbringer, Dark Blade of Ending Misery  4.32%       <10  \n481               Wolf, Promise of the Moonwalker  4.48%       <10  \n486                             Vengeance Cleaver  2.05%       <10  \n515                                 Second Chance  2.52%       <10  \n546             Oathbreaker, Spellblade of Trials  3.08%       <10  \n575                Aetherius, Boon of the Blessed  3.39%       <10  \n610             Oathbreaker, Spellblade of Trials  3.08%       <10  \n658  Oathbreaker, Last Hope of the Breaking Storm  4.23%       <10  \n672                              Unending Tyranny  2.85%       <10  \n686             Hellreaver, Heirloom of Inception  4.93%       <10  \n692                    Glimmer, Ender of the Moon  4.40%       <10  \n732                   Swan Song, Gouger Of Terror  2.50%       <10  \n767                                  Final Critic  4.88%       <10  \n778                                  Final Critic  4.19%       <10  \n     Purchase ID             SN  Age  Gender  Item ID  \\\n26            26     Lirtossa84   11    Male       71   \n32            32     Aeralria27   10    Male      133   \n38            38       Reulae52   10  Female      116   \n54            54     Zhisrisu83   10    Male       25   \n56            56       Raesty92   12    Male      108   \n76            76   Mindadaran26   13  Female       88   \n139          139       Lisasi93   13    Male      158   \n141          141     Zhisrisu83   10    Male       60   \n155          155     Aillyrin83   10  Female       98   \n163          163        Sidap51   11    Male       65   \n292          292       Lisasi93   13    Male       70   \n299          299     Lirtossa84   11    Male      164   \n394          394  Lassassasda30   12    Male       60   \n408          408       Raesty92   12    Male       53   \n411          411       Lisico81   10    Male       92   \n413          413        Siana77   12    Male       93   \n424          424      Iarilis73   10    Male      149   \n449          449   Ethralista69   13    Male       34   \n487          487    Raillydeu47   14    Male       93   \n493          493  Chanirrasta87   14    Male      139   \n531          531     Lirtirra81   12    Male      143   \n534          534         Iana95   10    Male      146   \n539          539     Eosurdru76   11    Male      117   \n601          601    Ilastilis78   11    Male       93   \n679          679      Iarilis73   10    Male      153   \n751          751    Lisjaskan36   11    Male       30   \n755          755       Raesty92   12    Male       76   \n774          774     Jiskjask80   11    Male       92   \n\n                                     Item Name  Price Age Group  \n26                                      Demise  1.61%     10-14  \n32                            Faith's Scimitar  4.09%     10-14  \n38                     Renewed Skeletal Katana  4.18%     10-14  \n54                                   Hero Cane  4.35%     10-14  \n56   Extraction, Quickblade Of Trembling Hands  3.53%     10-14  \n76            Emberling, Defender of Delusions  3.75%     10-14  \n139         Darkheart, Butcher of the Champion  2.45%     10-14  \n141                                       Wolf  3.54%     10-14  \n155                Deadline, Voice Of Subtlety  2.89%     10-14  \n163                  Conqueror Adamantite Mace  4.24%     10-14  \n292                                 Hope's End  1.03%     10-14  \n299                           Exiled Doomblade  1.63%     10-14  \n394                                       Wolf  3.54%     10-14  \n408                          Vengeance Cleaver  2.05%     10-14  \n411                               Final Critic  4.19%     10-14  \n413                   Apocalyptic Battlescythe  1.97%     10-14  \n424          Tranquility, Razor of Black Magic  1.75%     10-14  \n449                            Retribution Axe  2.22%     10-14  \n487                   Apocalyptic Battlescythe  1.97%     10-14  \n493                    Mercy, Katana of Dismay  4.94%     10-14  \n531                          Frenzied Scimitar  1.56%     10-14  \n534                       Warped Iron Scimitar  3.10%     10-14  \n539          Heartstriker, Legacy of the Light  1.79%     10-14  \n601                   Apocalyptic Battlescythe  1.97%     10-14  \n679                            Mercenary Sabre  3.74%     10-14  \n751                                Stormcaller  3.36%     10-14  \n755                   Haunted Bronzed Bludgeon  3.15%     10-14  \n774                               Final Critic  4.19%     10-14  \n     Purchase ID             SN  Age Gender  Item ID  \\\n30            30         Idai61   19   Male      140   \n34            34       Sondim73   19   Male      160   \n42            42  Aidaillodeu39   18   Male       72   \n59            59       Yaliru88   19   Male      105   \n61            61     Jiskimya77   17   Male      178   \n..           ...            ...  ...    ...      ...   \n757          757      Eratiel90   18   Male       57   \n764          764   Saedaiphos46   18   Male      113   \n765          765        Irith83   18   Male      130   \n769          769      Ilosian36   15   Male      145   \n771          771   Iskossasda43   16   Male       25   \n\n                                        Item Name  Price Age Group  \n30                                        Striker  2.94%     15-19  \n34                                     Azurewrath  4.40%     15-19  \n42                                  Winter's Bite  3.77%     15-19  \n59                   Hailstorm Shadowsteel Scythe  3.03%     15-19  \n61   Oathbreaker, Last Hope of the Breaking Storm  4.23%     15-19  \n..                                            ...    ...       ...  \n757               Despair, Favor of Due Diligence  4.60%     15-19  \n764                             Solitude's Reaver  4.07%     15-19  \n765                                         Alpha  2.07%     15-19  \n769                          Fiery Glass Crusader  4.58%     15-19  \n771                                     Hero Cane  4.35%     15-19  \n\n[136 rows x 8 columns]\n     Purchase ID             SN  Age  Gender  Item ID  \\\n0              0        Lisim78   20    Male      108   \n2              2     Ithergue48   24    Male       92   \n3              3  Chamassasya86   24    Male      100   \n4              4      Iskosia90   23    Male      131   \n5              5        Yalae81   22    Male       81   \n..           ...            ...  ...     ...      ...   \n773          773         Hala31   21    Male       19   \n775          775     Aethedru70   21  Female       60   \n776          776         Iral74   21    Male      164   \n777          777     Yathecal72   20    Male       67   \n779          779      Ennrian78   24    Male       50   \n\n                                     Item Name  Price Age Group  \n0    Extraction, Quickblade Of Trembling Hands  3.53%     20-24  \n2                                 Final Critic  4.88%     20-24  \n3                                  Blindscythe  3.27%     20-24  \n4                                         Fury  1.44%     20-24  \n5                                    Dreamkiss  3.61%     20-24  \n..                                         ...    ...       ...  \n773              Pursuit, Cudgel of Necromancy  1.02%     20-24  \n775                                       Wolf  3.54%     20-24  \n776                           Exiled Doomblade  1.63%     20-24  \n777      Celeste, Incarnation of the Corrupted  3.46%     20-24  \n779                                       Dawn  4.60%     20-24  \n\n[365 rows x 8 columns]\n     Purchase ID            SN  Age  Gender  Item ID  \\\n25            25     Lisirra87   29    Male      178   \n46            46     Yasrisu92   27    Male      102   \n55            55     Phaelap26   25  Female       84   \n65            65  Chamirraya83   25    Male       34   \n70            70     Pheodai94   29    Male      143   \n..           ...           ...  ...     ...      ...   \n724          724  Lisassasta50   25    Male      144   \n734          734        Arin32   25    Male      165   \n759          759   Tyaelorap29   25    Male       72   \n762          762        Asur53   26    Male      110   \n772          772        Asur53   26    Male      136   \n\n                                        Item Name  Price Age Group  \n25   Oathbreaker, Last Hope of the Breaking Storm  4.23%     25-29  \n46                                        Avenger  3.44%     25-29  \n55                                     Arcane Gem  3.79%     25-29  \n65                                Retribution Axe  2.22%     25-29  \n70                              Frenzied Scimitar  1.56%     25-29  \n..                                            ...    ...       ...  \n724                        Blood Infused Guardian  1.94%     25-29  \n734                   Bone Crushing Silver Skewer  4.86%     25-29  \n759                                 Winter's Bite  3.77%     25-29  \n762                                    Suspension  1.44%     25-29  \n772                  Ghastly Adamantite Protector  3.58%     25-29  \n\n[101 rows x 8 columns]\n     Purchase ID            SN  Age  Gender  Item ID  \\\n19            19     Chamalo71   30    Male       89   \n24            24       Siala43   30    Male      132   \n36            36    Idaisuir85   30    Male       76   \n49            49   Iaralrgue74   33    Male      110   \n53            53   Ilosianya35   32    Male      176   \n..           ...           ...  ...     ...      ...   \n698          698   Yarithrin84   30  Female       58   \n700          700    Chanosia60   31    Male       90   \n717          717  Chanilsast61   30    Male      177   \n730          730     Aidaira26   30    Male      178   \n770          770    Lirtosia63   34    Male       12   \n\n                                        Item Name  Price Age Group  \n19              Blazefury, Protector of Delusions  4.64%     30-34  \n24                                     Persuasion  3.19%     30-34  \n36                       Haunted Bronzed Bludgeon  3.15%     30-34  \n49                                     Suspension  1.44%     30-34  \n53                         Relentless Iron Skewer  2.84%     30-34  \n..                                            ...    ...       ...  \n698             Freak's Bite, Favor of Holy Might  4.14%     30-34  \n700                                      Betrayer  2.94%     30-34  \n717      Winterthorn, Defender of Shifting Worlds  2.08%     30-34  \n730  Oathbreaker, Last Hope of the Breaking Storm  4.23%     30-34  \n770                                         Dawne  1.02%     30-34  \n\n[73 rows x 8 columns]\n     Purchase ID              SN  Age                 Gender  Item ID  \\\n6              6       Itheria73   36                   Male      169   \n9              9     Chanosian48   35  Other / Non-Disclosed      136   \n14            14     Saesrideu94   35                   Male      165   \n22            22    Siarithria38   38  Other / Non-Disclosed       24   \n31            31     Farusrian86   37                   Male      179   \n107          107      Tyaerith73   36                   Male       99   \n127          127    Lisossanya98   37                   Male      102   \n142          142     Adastirin33   35                 Female      175   \n147          147     Hailaphos89   35                   Male       24   \n182          182         Lamil79   38                   Male      154   \n195          195       Minduri31   39                   Male      113   \n196          196     Maradaran90   35                 Female        9   \n202          202       Phistym51   37                   Male       82   \n208          208     Qilanrion65   37                   Male      105   \n217          217       Cosadar58   38                   Male       25   \n252          252        Tyaelo67   39                   Male       92   \n264          264     Saesrideu94   35                   Male      119   \n270          270    Assassasta79   38                   Male       85   \n294          294     Ilirrasda54   37                   Male      171   \n372          372    Saistyphos30   35                   Male       64   \n483          483    Saistyphos30   35                   Male      108   \n484          484     Chanosian48   35  Other / Non-Disclosed       39   \n498          498         Firon67   35                   Male      108   \n512          512      Sastydeu50   35                   Male      169   \n516          516        Aidain51   39                 Female       35   \n517          517  Aerithnuphos61   39                   Male      128   \n521          521       Phistym51   37                   Male       50   \n563          563          Isri34   38                   Male      142   \n648          648      Eustyria89   39                   Male      150   \n659          659    Lisassasda39   36                   Male      140   \n660          660          Isri34   38                   Male      103   \n687          687       Ealiril69   35                   Male       78   \n688          688    Saistyphos30   35                   Male       29   \n695          695         Lamil79   38                   Male      111   \n718          718     Ilirrasda54   37                   Male       20   \n738          738         Eusur90   36                   Male      121   \n739          739   Mindirranya33   35                   Male       61   \n745          745      Chanista95   39                   Male       37   \n747          747    Siarithria38   38  Other / Non-Disclosed      146   \n753          753  Frichirranya75   36                   Male      178   \n768          768    Assassasta79   38                   Male       92   \n\n                                        Item Name  Price Age Group  \n6          Interrogator, Blood Blade of the Queen  2.18%     35-39  \n9                    Ghastly Adamantite Protector  3.58%     35-39  \n14                    Bone Crushing Silver Skewer  4.86%     35-39  \n22                                  Warped Fetish  3.81%     35-39  \n31                Wolf, Promise of the Moonwalker  4.48%     35-39  \n107          Expiration, Warscythe Of Lost Worlds  1.71%     35-39  \n127                                       Avenger  3.44%     35-39  \n142                    Woeful Adamantite Claymore  4.48%     35-39  \n147                                 Warped Fetish  3.81%     35-39  \n182                                  Feral Katana  4.40%     35-39  \n195                             Solitude's Reaver  4.07%     35-39  \n196             Thorn, Conqueror of the Corrupted  2.73%     35-39  \n202                                       Nirvana  4.90%     35-39  \n208                  Hailstorm Shadowsteel Scythe  3.03%     35-39  \n217                                     Hero Cane  4.35%     35-39  \n252                                  Final Critic  4.88%     35-39  \n264     Stormbringer, Dark Blade of Ending Misery  4.32%     35-39  \n270                                Malificent Bag  1.75%     35-39  \n294                                       Scalpel  1.79%     35-39  \n372                                 Fusion Pummel  4.82%     35-39  \n483     Extraction, Quickblade Of Trembling Hands  3.53%     35-39  \n484          Betrayal, Whisper of Grieving Widows  3.94%     35-39  \n498     Extraction, Quickblade Of Trembling Hands  3.53%     35-39  \n512        Interrogator, Blood Blade of the Queen  2.18%     35-39  \n516                      Heartless Bone Dualblade  3.45%     35-39  \n517                 Blazeguard, Reach of Eternity  4.91%     35-39  \n521                                          Dawn  4.60%     35-39  \n563                               Righteous Might  2.62%     35-39  \n648                                     Deathraze  2.85%     35-39  \n659                                       Striker  2.94%     35-39  \n660                                Singed Scalpel  4.35%     35-39  \n687                    Glimmer, Ender of the Moon  4.40%     35-39  \n688                       Chaos, Ender of the End  1.98%     35-39  \n695                                  Misery's End  4.89%     35-39  \n718                                    Netherbane  3.27%     35-39  \n738                                      Massacre  1.60%     35-39  \n739                                      Ragnarok  3.87%     35-39  \n745           Shadow Strike, Glory of Ending Hope  3.16%     35-39  \n747                          Warped Iron Scimitar  3.10%     35-39  \n753  Oathbreaker, Last Hope of the Breaking Storm  4.23%     35-39  \n768                                  Final Critic  4.88%     35-39  \n     Purchase ID            SN  Age  Gender  Item ID  \\\n1              1   Lisovynya38   40    Male      143   \n23            23      Eyrian71   40    Male      151   \n156          156      Eyrian71   40    Male      117   \n220          220    Jiskjask85   40    Male       46   \n248          248    Isursuir31   44    Male      137   \n341          341   Hiasurria41   41    Male       71   \n477          477    Mindossa76   41    Male      173   \n480          480     Salilis27   40    Male       59   \n557          557    Frichaya88   42    Male        8   \n667          667     Inasuir29   40  Female       66   \n674          674       Aeral68   43    Male       77   \n728          728  Chanosiaya39   44    Male       93   \n761          761       Assim27   45    Male       17   \n\n                             Item Name  Price Age Group  \n1                    Frenzied Scimitar  1.56%       40+  \n23                           Severance  3.40%       40+  \n156  Heartstriker, Legacy of the Light  1.79%       40+  \n220            Hopeless Ebon Dualblade  1.33%       40+  \n248     Aetherius, Boon of the Blessed  3.39%       40+  \n341                             Demise  1.61%       40+  \n477                Stormfury Longsword  4.93%       40+  \n480      Lightning, Etcher of the King  4.23%       40+  \n557           Purgatory, Gem of Regret  3.93%       40+  \n667                 Victor Iron Spikes  4.40%       40+  \n674         Piety, Guardian of Riddles  4.00%       40+  \n728           Apocalyptic Battlescythe  1.97%       40+  \n761       Lazarus, Terror of the Earth  1.70%       40+  \n"
     ]
    }
   ],
   "source": [
    "# Create age bins\n",
    "age_bins = [0, 9.9, 14, 19, 24, 29, 34, 39, 999]\n",
    "age_names = [\"<10\", \"10-14\", \"15-19\", \"20-24\", \"25-29\", \"30-34\", \"35-39\", \"40+\"]\n",
    "\n",
    "# Create the \n",
    "purchase_data_df[\"Age Group\"] = pd.cut(purchase_data_df[\"Age\"],age_bins, labels=age_names)\n",
    "# purchase_data_df\n",
    "\n",
    "# Create new data frame with the added \"Age Group\" and group it\n",
    "ages_dfg = purchase_data_df.groupby(\"Age Group\")\n",
    "# for key, item in ages_dfg:\n",
    "#    print(ages_dfg.get_group(key))\n"
   ]
  },
  {
   "cell_type": "markdown",
   "metadata": {},
   "source": [
    "## Purchasing Analysis (Age)"
   ]
  },
  {
   "cell_type": "markdown",
   "metadata": {},
   "source": [
    "* Bin the purchase_data data frame by age\n",
    "\n",
    "\n",
    "* Run basic calculations to obtain purchase count, avg. purchase price, avg. purchase total per person etc. in the table below\n",
    "\n",
    "\n",
    "* Create a summary data frame to hold the results\n",
    "\n",
    "\n",
    "* Optional: give the displayed data cleaner formatting\n",
    "\n",
    "\n",
    "* Display the summary data frame"
   ]
  },
  {
   "cell_type": "code",
   "execution_count": 7,
   "metadata": {},
   "outputs": [
    {
     "data": {
      "text/html": [
       "<div>\n",
       "<style scoped>\n",
       "    .dataframe tbody tr th:only-of-type {\n",
       "        vertical-align: middle;\n",
       "    }\n",
       "\n",
       "    .dataframe tbody tr th {\n",
       "        vertical-align: top;\n",
       "    }\n",
       "\n",
       "    .dataframe thead th {\n",
       "        text-align: right;\n",
       "    }\n",
       "</style>\n",
       "<table border=\"1\" class=\"dataframe\">\n",
       "  <thead>\n",
       "    <tr style=\"text-align: right;\">\n",
       "      <th></th>\n",
       "      <th>Purchase Count</th>\n",
       "      <th>Average Purchase Price</th>\n",
       "      <th>Total Purchase Value</th>\n",
       "      <th>Avg Total Purchase per Person</th>\n",
       "    </tr>\n",
       "    <tr>\n",
       "      <th>Age Ranges</th>\n",
       "      <th></th>\n",
       "      <th></th>\n",
       "      <th></th>\n",
       "      <th></th>\n",
       "    </tr>\n",
       "  </thead>\n",
       "  <tbody>\n",
       "    <tr>\n",
       "      <th>&lt;10</th>\n",
       "      <td>23</td>\n",
       "      <td>$3.35</td>\n",
       "      <td>$77.13</td>\n",
       "      <td>$4.54</td>\n",
       "    </tr>\n",
       "    <tr>\n",
       "      <th>10-14</th>\n",
       "      <td>28</td>\n",
       "      <td>$2.96</td>\n",
       "      <td>$82.78</td>\n",
       "      <td>$3.76</td>\n",
       "    </tr>\n",
       "    <tr>\n",
       "      <th>15-19</th>\n",
       "      <td>136</td>\n",
       "      <td>$3.04</td>\n",
       "      <td>$412.89</td>\n",
       "      <td>$3.86</td>\n",
       "    </tr>\n",
       "    <tr>\n",
       "      <th>20-24</th>\n",
       "      <td>365</td>\n",
       "      <td>$3.05</td>\n",
       "      <td>$1,114.06</td>\n",
       "      <td>$4.32</td>\n",
       "    </tr>\n",
       "    <tr>\n",
       "      <th>25-29</th>\n",
       "      <td>101</td>\n",
       "      <td>$2.90</td>\n",
       "      <td>$293.00</td>\n",
       "      <td>$3.81</td>\n",
       "    </tr>\n",
       "    <tr>\n",
       "      <th>30-34</th>\n",
       "      <td>73</td>\n",
       "      <td>$2.93</td>\n",
       "      <td>$214.00</td>\n",
       "      <td>$4.12</td>\n",
       "    </tr>\n",
       "    <tr>\n",
       "      <th>35-39</th>\n",
       "      <td>41</td>\n",
       "      <td>$3.60</td>\n",
       "      <td>$147.67</td>\n",
       "      <td>$4.76</td>\n",
       "    </tr>\n",
       "    <tr>\n",
       "      <th>40+</th>\n",
       "      <td>13</td>\n",
       "      <td>$2.94</td>\n",
       "      <td>$38.24</td>\n",
       "      <td>$3.19</td>\n",
       "    </tr>\n",
       "  </tbody>\n",
       "</table>\n",
       "</div>"
      ],
      "text/plain": [
       "           Purchase Count Average Purchase Price Total Purchase Value  \\\n",
       "Age Ranges                                                              \n",
       "<10                    23                  $3.35               $77.13   \n",
       "10-14                  28                  $2.96               $82.78   \n",
       "15-19                 136                  $3.04              $412.89   \n",
       "20-24                 365                  $3.05            $1,114.06   \n",
       "25-29                 101                  $2.90              $293.00   \n",
       "30-34                  73                  $2.93              $214.00   \n",
       "35-39                  41                  $3.60              $147.67   \n",
       "40+                    13                  $2.94               $38.24   \n",
       "\n",
       "           Avg Total Purchase per Person  \n",
       "Age Ranges                                \n",
       "<10                                $4.54  \n",
       "10-14                              $3.76  \n",
       "15-19                              $3.86  \n",
       "20-24                              $4.32  \n",
       "25-29                              $3.81  \n",
       "30-34                              $4.12  \n",
       "35-39                              $4.76  \n",
       "40+                                $3.19  "
      ]
     },
     "execution_count": 7,
     "metadata": {},
     "output_type": "execute_result"
    }
   ],
   "source": []
  },
  {
   "cell_type": "markdown",
   "metadata": {},
   "source": [
    "## Top Spenders"
   ]
  },
  {
   "cell_type": "markdown",
   "metadata": {},
   "source": [
    "* Run basic calculations to obtain the results in the table below\n",
    "\n",
    "\n",
    "* Create a summary data frame to hold the results\n",
    "\n",
    "\n",
    "* Sort the total purchase value column in descending order\n",
    "\n",
    "\n",
    "* Optional: give the displayed data cleaner formatting\n",
    "\n",
    "\n",
    "* Display a preview of the summary data frame\n",
    "\n"
   ]
  },
  {
   "cell_type": "code",
   "execution_count": 8,
   "metadata": {},
   "outputs": [
    {
     "data": {
      "text/html": [
       "<div>\n",
       "<style scoped>\n",
       "    .dataframe tbody tr th:only-of-type {\n",
       "        vertical-align: middle;\n",
       "    }\n",
       "\n",
       "    .dataframe tbody tr th {\n",
       "        vertical-align: top;\n",
       "    }\n",
       "\n",
       "    .dataframe thead th {\n",
       "        text-align: right;\n",
       "    }\n",
       "</style>\n",
       "<table border=\"1\" class=\"dataframe\">\n",
       "  <thead>\n",
       "    <tr style=\"text-align: right;\">\n",
       "      <th></th>\n",
       "      <th>Purchase Count</th>\n",
       "      <th>Average Purchase Price</th>\n",
       "      <th>Total Purchase Value</th>\n",
       "    </tr>\n",
       "    <tr>\n",
       "      <th>SN</th>\n",
       "      <th></th>\n",
       "      <th></th>\n",
       "      <th></th>\n",
       "    </tr>\n",
       "  </thead>\n",
       "  <tbody>\n",
       "    <tr>\n",
       "      <th>Lisosia93</th>\n",
       "      <td>5</td>\n",
       "      <td>$3.79</td>\n",
       "      <td>$18.96</td>\n",
       "    </tr>\n",
       "    <tr>\n",
       "      <th>Idastidru52</th>\n",
       "      <td>4</td>\n",
       "      <td>$3.86</td>\n",
       "      <td>$15.45</td>\n",
       "    </tr>\n",
       "    <tr>\n",
       "      <th>Chamjask73</th>\n",
       "      <td>3</td>\n",
       "      <td>$4.61</td>\n",
       "      <td>$13.83</td>\n",
       "    </tr>\n",
       "    <tr>\n",
       "      <th>Iral74</th>\n",
       "      <td>4</td>\n",
       "      <td>$3.40</td>\n",
       "      <td>$13.62</td>\n",
       "    </tr>\n",
       "    <tr>\n",
       "      <th>Iskadarya95</th>\n",
       "      <td>3</td>\n",
       "      <td>$4.37</td>\n",
       "      <td>$13.10</td>\n",
       "    </tr>\n",
       "  </tbody>\n",
       "</table>\n",
       "</div>"
      ],
      "text/plain": [
       "             Purchase Count Average Purchase Price Total Purchase Value\n",
       "SN                                                                     \n",
       "Lisosia93                 5                  $3.79               $18.96\n",
       "Idastidru52               4                  $3.86               $15.45\n",
       "Chamjask73                3                  $4.61               $13.83\n",
       "Iral74                    4                  $3.40               $13.62\n",
       "Iskadarya95               3                  $4.37               $13.10"
      ]
     },
     "execution_count": 8,
     "metadata": {},
     "output_type": "execute_result"
    }
   ],
   "source": []
  },
  {
   "cell_type": "markdown",
   "metadata": {},
   "source": [
    "## Most Popular Items"
   ]
  },
  {
   "cell_type": "markdown",
   "metadata": {},
   "source": [
    "* Retrieve the Item ID, Item Name, and Item Price columns\n",
    "\n",
    "\n",
    "* Group by Item ID and Item Name. Perform calculations to obtain purchase count, average item price, and total purchase value\n",
    "\n",
    "\n",
    "* Create a summary data frame to hold the results\n",
    "\n",
    "\n",
    "* Sort the purchase count column in descending order\n",
    "\n",
    "\n",
    "* Optional: give the displayed data cleaner formatting\n",
    "\n",
    "\n",
    "* Display a preview of the summary data frame\n",
    "\n"
   ]
  },
  {
   "cell_type": "code",
   "execution_count": 9,
   "metadata": {},
   "outputs": [
    {
     "data": {
      "text/html": [
       "<div>\n",
       "<style scoped>\n",
       "    .dataframe tbody tr th:only-of-type {\n",
       "        vertical-align: middle;\n",
       "    }\n",
       "\n",
       "    .dataframe tbody tr th {\n",
       "        vertical-align: top;\n",
       "    }\n",
       "\n",
       "    .dataframe thead th {\n",
       "        text-align: right;\n",
       "    }\n",
       "</style>\n",
       "<table border=\"1\" class=\"dataframe\">\n",
       "  <thead>\n",
       "    <tr style=\"text-align: right;\">\n",
       "      <th></th>\n",
       "      <th></th>\n",
       "      <th>Purchase Count</th>\n",
       "      <th>Item Price</th>\n",
       "      <th>Total Purchase Value</th>\n",
       "    </tr>\n",
       "    <tr>\n",
       "      <th>Item ID</th>\n",
       "      <th>Item Name</th>\n",
       "      <th></th>\n",
       "      <th></th>\n",
       "      <th></th>\n",
       "    </tr>\n",
       "  </thead>\n",
       "  <tbody>\n",
       "    <tr>\n",
       "      <th>92</th>\n",
       "      <th>Final Critic</th>\n",
       "      <td>13</td>\n",
       "      <td>$4.61</td>\n",
       "      <td>$59.99</td>\n",
       "    </tr>\n",
       "    <tr>\n",
       "      <th>178</th>\n",
       "      <th>Oathbreaker, Last Hope of the Breaking Storm</th>\n",
       "      <td>12</td>\n",
       "      <td>$4.23</td>\n",
       "      <td>$50.76</td>\n",
       "    </tr>\n",
       "    <tr>\n",
       "      <th>145</th>\n",
       "      <th>Fiery Glass Crusader</th>\n",
       "      <td>9</td>\n",
       "      <td>$4.58</td>\n",
       "      <td>$41.22</td>\n",
       "    </tr>\n",
       "    <tr>\n",
       "      <th>132</th>\n",
       "      <th>Persuasion</th>\n",
       "      <td>9</td>\n",
       "      <td>$3.22</td>\n",
       "      <td>$28.99</td>\n",
       "    </tr>\n",
       "    <tr>\n",
       "      <th>108</th>\n",
       "      <th>Extraction, Quickblade Of Trembling Hands</th>\n",
       "      <td>9</td>\n",
       "      <td>$3.53</td>\n",
       "      <td>$31.77</td>\n",
       "    </tr>\n",
       "  </tbody>\n",
       "</table>\n",
       "</div>"
      ],
      "text/plain": [
       "                                                     Purchase Count  \\\n",
       "Item ID Item Name                                                     \n",
       "92      Final Critic                                             13   \n",
       "178     Oathbreaker, Last Hope of the Breaking Storm             12   \n",
       "145     Fiery Glass Crusader                                      9   \n",
       "132     Persuasion                                                9   \n",
       "108     Extraction, Quickblade Of Trembling Hands                 9   \n",
       "\n",
       "                                                     Item Price  \\\n",
       "Item ID Item Name                                                 \n",
       "92      Final Critic                                      $4.61   \n",
       "178     Oathbreaker, Last Hope of the Breaking Storm      $4.23   \n",
       "145     Fiery Glass Crusader                              $4.58   \n",
       "132     Persuasion                                        $3.22   \n",
       "108     Extraction, Quickblade Of Trembling Hands         $3.53   \n",
       "\n",
       "                                                     Total Purchase Value  \n",
       "Item ID Item Name                                                          \n",
       "92      Final Critic                                               $59.99  \n",
       "178     Oathbreaker, Last Hope of the Breaking Storm               $50.76  \n",
       "145     Fiery Glass Crusader                                       $41.22  \n",
       "132     Persuasion                                                 $28.99  \n",
       "108     Extraction, Quickblade Of Trembling Hands                  $31.77  "
      ]
     },
     "execution_count": 9,
     "metadata": {},
     "output_type": "execute_result"
    }
   ],
   "source": []
  },
  {
   "cell_type": "markdown",
   "metadata": {},
   "source": [
    "## Most Profitable Items"
   ]
  },
  {
   "cell_type": "markdown",
   "metadata": {},
   "source": [
    "* Sort the above table by total purchase value in descending order\n",
    "\n",
    "\n",
    "* Optional: give the displayed data cleaner formatting\n",
    "\n",
    "\n",
    "* Display a preview of the data frame\n",
    "\n"
   ]
  },
  {
   "cell_type": "code",
   "execution_count": 10,
   "metadata": {
    "scrolled": true
   },
   "outputs": [
    {
     "data": {
      "text/html": [
       "<div>\n",
       "<style scoped>\n",
       "    .dataframe tbody tr th:only-of-type {\n",
       "        vertical-align: middle;\n",
       "    }\n",
       "\n",
       "    .dataframe tbody tr th {\n",
       "        vertical-align: top;\n",
       "    }\n",
       "\n",
       "    .dataframe thead th {\n",
       "        text-align: right;\n",
       "    }\n",
       "</style>\n",
       "<table border=\"1\" class=\"dataframe\">\n",
       "  <thead>\n",
       "    <tr style=\"text-align: right;\">\n",
       "      <th></th>\n",
       "      <th></th>\n",
       "      <th>Purchase Count</th>\n",
       "      <th>Item Price</th>\n",
       "      <th>Total Purchase Value</th>\n",
       "    </tr>\n",
       "    <tr>\n",
       "      <th>Item ID</th>\n",
       "      <th>Item Name</th>\n",
       "      <th></th>\n",
       "      <th></th>\n",
       "      <th></th>\n",
       "    </tr>\n",
       "  </thead>\n",
       "  <tbody>\n",
       "    <tr>\n",
       "      <th>92</th>\n",
       "      <th>Final Critic</th>\n",
       "      <td>13</td>\n",
       "      <td>$4.61</td>\n",
       "      <td>$59.99</td>\n",
       "    </tr>\n",
       "    <tr>\n",
       "      <th>178</th>\n",
       "      <th>Oathbreaker, Last Hope of the Breaking Storm</th>\n",
       "      <td>12</td>\n",
       "      <td>$4.23</td>\n",
       "      <td>$50.76</td>\n",
       "    </tr>\n",
       "    <tr>\n",
       "      <th>82</th>\n",
       "      <th>Nirvana</th>\n",
       "      <td>9</td>\n",
       "      <td>$4.90</td>\n",
       "      <td>$44.10</td>\n",
       "    </tr>\n",
       "    <tr>\n",
       "      <th>145</th>\n",
       "      <th>Fiery Glass Crusader</th>\n",
       "      <td>9</td>\n",
       "      <td>$4.58</td>\n",
       "      <td>$41.22</td>\n",
       "    </tr>\n",
       "    <tr>\n",
       "      <th>103</th>\n",
       "      <th>Singed Scalpel</th>\n",
       "      <td>8</td>\n",
       "      <td>$4.35</td>\n",
       "      <td>$34.80</td>\n",
       "    </tr>\n",
       "  </tbody>\n",
       "</table>\n",
       "</div>"
      ],
      "text/plain": [
       "                                                     Purchase Count  \\\n",
       "Item ID Item Name                                                     \n",
       "92      Final Critic                                             13   \n",
       "178     Oathbreaker, Last Hope of the Breaking Storm             12   \n",
       "82      Nirvana                                                   9   \n",
       "145     Fiery Glass Crusader                                      9   \n",
       "103     Singed Scalpel                                            8   \n",
       "\n",
       "                                                     Item Price  \\\n",
       "Item ID Item Name                                                 \n",
       "92      Final Critic                                      $4.61   \n",
       "178     Oathbreaker, Last Hope of the Breaking Storm      $4.23   \n",
       "82      Nirvana                                           $4.90   \n",
       "145     Fiery Glass Crusader                              $4.58   \n",
       "103     Singed Scalpel                                    $4.35   \n",
       "\n",
       "                                                     Total Purchase Value  \n",
       "Item ID Item Name                                                          \n",
       "92      Final Critic                                               $59.99  \n",
       "178     Oathbreaker, Last Hope of the Breaking Storm               $50.76  \n",
       "82      Nirvana                                                    $44.10  \n",
       "145     Fiery Glass Crusader                                       $41.22  \n",
       "103     Singed Scalpel                                             $34.80  "
      ]
     },
     "execution_count": 10,
     "metadata": {},
     "output_type": "execute_result"
    }
   ],
   "source": []
  }
 ],
 "metadata": {
  "anaconda-cloud": {},
  "kernel_info": {
   "name": "python3"
  },
  "kernelspec": {
   "display_name": "Python 3",
   "language": "python",
   "name": "python3"
  },
  "language_info": {
   "codemirror_mode": {
    "name": "ipython",
    "version": 3
   },
   "file_extension": ".py",
   "mimetype": "text/x-python",
   "name": "python",
   "nbconvert_exporter": "python",
   "pygments_lexer": "ipython3",
   "version": "3.8.3-final"
  },
  "latex_envs": {
   "LaTeX_envs_menu_present": true,
   "autoclose": false,
   "autocomplete": true,
   "bibliofile": "biblio.bib",
   "cite_by": "apalike",
   "current_citInitial": 1,
   "eqLabelWithNumbers": true,
   "eqNumInitial": 1,
   "hotkeys": {
    "equation": "Ctrl-E",
    "itemize": "Ctrl-I"
   },
   "labels_anchors": false,
   "latex_user_defs": false,
   "report_style_numbering": false,
   "user_envs_cfg": false
  },
  "nteract": {
   "version": "0.2.0"
  }
 },
 "nbformat": 4,
 "nbformat_minor": 2
}