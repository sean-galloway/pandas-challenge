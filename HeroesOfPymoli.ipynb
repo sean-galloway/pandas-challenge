{
 "cells": [
  {
   "cell_type": "markdown",
   "metadata": {},
   "source": [
    "### Observable Trends\n",
    "* The most apparent trend in the data is the difference in gender percentages. In the Pymoli data, 84.03% of the users are male, while 14.06% are female.\n",
    "* If one examines the Purchasing Analysis (Gender) data frame, men make 82.68% of the total purchases while women make 15.21%. What is significant about this is that women purchase 15.21% of the total while only making up 14.06% of the game population. Women are spending more than men.\n",
    "* In the Purchasing Analysis (Age) data frame, we find that the 20-24-year-old age bracket is the largest but does not spend the most. The age group that purchases the most is the 35-39-year-old group; this group spends $4.76 per person. I would expect an older age bracket to buy more as they likely have more disposable income. Finally, the most surprising piece of data is the <10-year-old group comes in second with $4.54; this may be an artifact of the small sample size, though.\n",
    "\n",
    "### Note\n",
    "* Comments detailing the flow have been included for each segment."
   ]
  },
  {
   "cell_type": "code",
   "execution_count": 1,
   "metadata": {},
   "outputs": [],
   "source": [
    "# Dependencies and Setup\n",
    "import pandas as pd\n",
    "import pprint         # this is only needed for debug\n",
    "\n",
    "# File to Load (Remember to Change These)\n",
    "file_to_load = \"Resources/purchase_data.csv\"\n",
    "pp = pprint.PrettyPrinter(indent=4)\n",
    "\n",
    "# Read Purchasing File and store into Pandas data frame\n",
    "purchase_data_df = pd.read_csv(file_to_load)"
   ]
  },
  {
   "cell_type": "markdown",
   "metadata": {},
   "source": [
    "## Player Count"
   ]
  },
  {
   "cell_type": "markdown",
   "metadata": {},
   "source": [
    "* Display the total number of players\n"
   ]
  },
  {
   "cell_type": "code",
   "execution_count": 2,
   "metadata": {},
   "outputs": [
    {
     "output_type": "execute_result",
     "data": {
      "text/plain": [
       "   Total Players\n",
       "0            576"
      ],
      "text/html": "<div>\n<style scoped>\n    .dataframe tbody tr th:only-of-type {\n        vertical-align: middle;\n    }\n\n    .dataframe tbody tr th {\n        vertical-align: top;\n    }\n\n    .dataframe thead th {\n        text-align: right;\n    }\n</style>\n<table border=\"1\" class=\"dataframe\">\n  <thead>\n    <tr style=\"text-align: right;\">\n      <th></th>\n      <th>Total Players</th>\n    </tr>\n  </thead>\n  <tbody>\n    <tr>\n      <th>0</th>\n      <td>576</td>\n    </tr>\n  </tbody>\n</table>\n</div>"
     },
     "metadata": {},
     "execution_count": 2
    }
   ],
   "source": [
    "# Find the number of screen names \"SN\", for player count\n",
    "player_count = len(purchase_data_df[\"SN\"].unique())\n",
    "# print(player_count)\n",
    "\n",
    "# Create a data frame\n",
    "player_count_df = pd.DataFrame({\"Total Players\": [player_count]})\n",
    "# html = player_count_df.to_html()\n",
    "# print(html)\n",
    "player_count_df"
   ]
  },
  {
   "cell_type": "markdown",
   "metadata": {},
   "source": [
    "## Purchasing Analysis (Total)"
   ]
  },
  {
   "cell_type": "markdown",
   "metadata": {},
   "source": [
    "* Run basic calculations to obtain number of unique items, average price, etc.\n",
    "\n",
    "\n",
    "* Create a summary data frame to hold the results\n",
    "\n",
    "\n",
    "* Optional: give the displayed data cleaner formatting\n",
    "\n",
    "\n",
    "* Display the summary data frame\n"
   ]
  },
  {
   "cell_type": "code",
   "execution_count": 3,
   "metadata": {
    "scrolled": true
   },
   "outputs": [
    {
     "output_type": "execute_result",
     "data": {
      "text/plain": [
       "<pandas.io.formats.style.Styler at 0x214e82eb9d0>"
      ],
      "text/html": "<style  type=\"text/css\" >\n</style><table id=\"T_dd5e4d18_13df_11eb_9ad7_4c1d961ba359\" ><thead>    <tr>        <th class=\"blank level0\" ></th>        <th class=\"col_heading level0 col0\" >Number of Unique Items</th>        <th class=\"col_heading level0 col1\" >Average Price</th>        <th class=\"col_heading level0 col2\" >Number of Purchases</th>        <th class=\"col_heading level0 col3\" >Total Revenue</th>    </tr></thead><tbody>\n                <tr>\n                        <th id=\"T_dd5e4d18_13df_11eb_9ad7_4c1d961ba359level0_row0\" class=\"row_heading level0 row0\" >0</th>\n                        <td id=\"T_dd5e4d18_13df_11eb_9ad7_4c1d961ba359row0_col0\" class=\"data row0 col0\" >179</td>\n                        <td id=\"T_dd5e4d18_13df_11eb_9ad7_4c1d961ba359row0_col1\" class=\"data row0 col1\" >$3.05</td>\n                        <td id=\"T_dd5e4d18_13df_11eb_9ad7_4c1d961ba359row0_col2\" class=\"data row0 col2\" >780</td>\n                        <td id=\"T_dd5e4d18_13df_11eb_9ad7_4c1d961ba359row0_col3\" class=\"data row0 col3\" >$2,379.77</td>\n            </tr>\n    </tbody></table>"
     },
     "metadata": {},
     "execution_count": 3
    }
   ],
   "source": [
    "# Get the stats\n",
    "count_unique_items_col = len(purchase_data_df[\"Item ID\"].unique())\n",
    "average_price_col = purchase_data_df[\"Price\"].mean()\n",
    "count_purchases_col = purchase_data_df[\"Purchase ID\"].count()\n",
    "total_revenue_col = purchase_data_df[\"Price\"].sum()\n",
    "\n",
    "# create data frame with specific columns\n",
    "summary_df = pd.DataFrame({\"Number of Unique Items\": [count_unique_items_col],\n",
    "                           \"Average Price\": [average_price_col], \n",
    "                           \"Number of Purchases\": [count_purchases_col], \n",
    "                           \"Total Revenue\": [total_revenue_col]\n",
    "                         })\n",
    "\n",
    "# format as currency\n",
    "# html = summary_df.to_html()\n",
    "# print(html)\n",
    "summary_df.style.format({\"Average Price\": '${:,.2f}',\n",
    "                         \"Total Revenue\": '${:,.2f}'\n",
    "                       })"
   ]
  },
  {
   "cell_type": "markdown",
   "metadata": {},
   "source": [
    "## Gender Demographics"
   ]
  },
  {
   "cell_type": "markdown",
   "metadata": {},
   "source": [
    "* Percentage and Count of Male Players\n",
    "\n",
    "\n",
    "* Percentage and Count of Female Players\n",
    "\n",
    "\n",
    "* Percentage and Count of Other / Non-Disclosed\n",
    "\n",
    "\n"
   ]
  },
  {
   "cell_type": "code",
   "execution_count": 4,
   "metadata": {},
   "outputs": [
    {
     "output_type": "execute_result",
     "data": {
      "text/plain": [
       "<pandas.io.formats.style.Styler at 0x214e82beee0>"
      ],
      "text/html": "<style  type=\"text/css\" >\n</style><table id=\"T_e28628b4_13df_11eb_b81a_4c1d961ba359\" ><thead>    <tr>        <th class=\"blank level0\" ></th>        <th class=\"col_heading level0 col0\" >Total Count</th>        <th class=\"col_heading level0 col1\" >Percentage of Players</th>    </tr></thead><tbody>\n                <tr>\n                        <th id=\"T_e28628b4_13df_11eb_b81a_4c1d961ba359level0_row0\" class=\"row_heading level0 row0\" >Male</th>\n                        <td id=\"T_e28628b4_13df_11eb_b81a_4c1d961ba359row0_col0\" class=\"data row0 col0\" >484</td>\n                        <td id=\"T_e28628b4_13df_11eb_b81a_4c1d961ba359row0_col1\" class=\"data row0 col1\" >84.03%</td>\n            </tr>\n            <tr>\n                        <th id=\"T_e28628b4_13df_11eb_b81a_4c1d961ba359level0_row1\" class=\"row_heading level0 row1\" >Female</th>\n                        <td id=\"T_e28628b4_13df_11eb_b81a_4c1d961ba359row1_col0\" class=\"data row1 col0\" >81</td>\n                        <td id=\"T_e28628b4_13df_11eb_b81a_4c1d961ba359row1_col1\" class=\"data row1 col1\" >14.06%</td>\n            </tr>\n            <tr>\n                        <th id=\"T_e28628b4_13df_11eb_b81a_4c1d961ba359level0_row2\" class=\"row_heading level0 row2\" >Other / Non-Disclosed</th>\n                        <td id=\"T_e28628b4_13df_11eb_b81a_4c1d961ba359row2_col0\" class=\"data row2 col0\" >11</td>\n                        <td id=\"T_e28628b4_13df_11eb_b81a_4c1d961ba359row2_col1\" class=\"data row2 col1\" >1.91%</td>\n            </tr>\n    </tbody></table>"
     },
     "metadata": {},
     "execution_count": 4
    }
   ],
   "source": [
    "# get a gender data frame group\n",
    "gender_dfg = purchase_data_df.groupby(\"Gender\")\n",
    "# for key, item in gender_dfg:\n",
    "#     print(gender_dfg.get_group(key))\n",
    "\n",
    "# Get the stats\n",
    "total_gender_dfu = gender_dfg.nunique()[\"SN\"]\n",
    "# print(total_gender_dfu)\n",
    "percent_of_players_dfu = total_gender_dfu / player_count * 100\n",
    "# print(percent_of_players_dfu)\n",
    "\n",
    "# Create data frame\n",
    "gender_demo_df = pd.DataFrame({\"Total Count\": total_gender_dfu, \"Percentage of Players\": percent_of_players_dfu})\n",
    "gender_demo_df.index.name = None\n",
    "\n",
    "# Format the values sorted by total count in descending order, and two decimal places for the percentage\n",
    "# html = gender_demo_df.to_html()\n",
    "# print(html)\n",
    "gender_demo_df.sort_values([\"Total Count\"], ascending = False).style.format(\n",
    "                            {\"Percentage of Players\":\"{:.2f}%\"})"
   ]
  },
  {
   "cell_type": "markdown",
   "metadata": {},
   "source": [
    "\n",
    "## Purchasing Analysis (Gender)"
   ]
  },
  {
   "cell_type": "markdown",
   "metadata": {},
   "source": [
    "* Run basic calculations to obtain purchase count, avg. purchase price, avg. purchase total per person etc. by gender\n",
    "\n",
    "\n",
    "\n",
    "\n",
    "* Create a summary data frame to hold the results\n",
    "\n",
    "\n",
    "* Optional: give the displayed data cleaner formatting\n",
    "\n",
    "\n",
    "* Display the summary data frame"
   ]
  },
  {
   "cell_type": "code",
   "execution_count": 5,
   "metadata": {},
   "outputs": [
    {
     "output_type": "execute_result",
     "data": {
      "text/plain": [
       "<pandas.io.formats.style.Styler at 0x214e938b520>"
      ],
      "text/html": "<style  type=\"text/css\" >\n</style><table id=\"T_e9cf14de_13df_11eb_8a3a_4c1d961ba359\" ><thead>    <tr>        <th class=\"blank level0\" ></th>        <th class=\"col_heading level0 col0\" >Purchase Count</th>        <th class=\"col_heading level0 col1\" >Average Purchase Price</th>        <th class=\"col_heading level0 col2\" >Average Purchase Value</th>        <th class=\"col_heading level0 col3\" >Avg Purchase Total per Person</th>    </tr>    <tr>        <th class=\"index_name level0\" >Gender</th>        <th class=\"blank\" ></th>        <th class=\"blank\" ></th>        <th class=\"blank\" ></th>        <th class=\"blank\" ></th>    </tr></thead><tbody>\n                <tr>\n                        <th id=\"T_e9cf14de_13df_11eb_8a3a_4c1d961ba359level0_row0\" class=\"row_heading level0 row0\" >Female</th>\n                        <td id=\"T_e9cf14de_13df_11eb_8a3a_4c1d961ba359row0_col0\" class=\"data row0 col0\" >113</td>\n                        <td id=\"T_e9cf14de_13df_11eb_8a3a_4c1d961ba359row0_col1\" class=\"data row0 col1\" >$3.20</td>\n                        <td id=\"T_e9cf14de_13df_11eb_8a3a_4c1d961ba359row0_col2\" class=\"data row0 col2\" >$361.94</td>\n                        <td id=\"T_e9cf14de_13df_11eb_8a3a_4c1d961ba359row0_col3\" class=\"data row0 col3\" >$4.47</td>\n            </tr>\n            <tr>\n                        <th id=\"T_e9cf14de_13df_11eb_8a3a_4c1d961ba359level0_row1\" class=\"row_heading level0 row1\" >Male</th>\n                        <td id=\"T_e9cf14de_13df_11eb_8a3a_4c1d961ba359row1_col0\" class=\"data row1 col0\" >652</td>\n                        <td id=\"T_e9cf14de_13df_11eb_8a3a_4c1d961ba359row1_col1\" class=\"data row1 col1\" >$3.02</td>\n                        <td id=\"T_e9cf14de_13df_11eb_8a3a_4c1d961ba359row1_col2\" class=\"data row1 col2\" >$1,967.64</td>\n                        <td id=\"T_e9cf14de_13df_11eb_8a3a_4c1d961ba359row1_col3\" class=\"data row1 col3\" >$4.07</td>\n            </tr>\n            <tr>\n                        <th id=\"T_e9cf14de_13df_11eb_8a3a_4c1d961ba359level0_row2\" class=\"row_heading level0 row2\" >Other / Non-Disclosed</th>\n                        <td id=\"T_e9cf14de_13df_11eb_8a3a_4c1d961ba359row2_col0\" class=\"data row2 col0\" >15</td>\n                        <td id=\"T_e9cf14de_13df_11eb_8a3a_4c1d961ba359row2_col1\" class=\"data row2 col1\" >$3.35</td>\n                        <td id=\"T_e9cf14de_13df_11eb_8a3a_4c1d961ba359row2_col2\" class=\"data row2 col2\" >$50.19</td>\n                        <td id=\"T_e9cf14de_13df_11eb_8a3a_4c1d961ba359row2_col3\" class=\"data row2 col3\" >$4.56</td>\n            </tr>\n    </tbody></table>"
     },
     "metadata": {},
     "execution_count": 5
    }
   ],
   "source": [
    "# Get the stats from the gender data frame \n",
    "purchase_count_col = gender_dfg[\"Purchase ID\"].count()\n",
    "avg_purchase_price_col = gender_dfg[\"Price\"].mean()\n",
    "avg_purchase_total_col = gender_dfg[\"Price\"].sum()\n",
    "avg_purchase_per_person_col = avg_purchase_total_col / total_gender_dfu\n",
    "\n",
    "# Create data frame with the values above \n",
    "gender_sum_df = pd.DataFrame({\n",
    "                               \"Purchase Count\": purchase_count_col, \n",
    "                               \"Average Purchase Price\": avg_purchase_price_col,\n",
    "                               \"Average Purchase Value\":avg_purchase_total_col,\n",
    "                               \"Avg Purchase Total per Person\": avg_purchase_per_person_col\n",
    "                             })\n",
    "\n",
    "# Make index in top left \"Gender\"\n",
    "gender_sum_df.index.name = \"Gender\"\n",
    "\n",
    "# html = gender_sum_df.to_html()\n",
    "# print(html)\n",
    "\n",
    "# Format with currency style\n",
    "gender_sum_df.style.format({\n",
    "                                \"Average Purchase Price\": \"${:,.2f}\",\n",
    "                                \"Average Purchase Value\": \"${:,.2f}\",\n",
    "                                \"Avg Purchase Total per Person\": \"${:,.2f}\"\n",
    "                            })"
   ]
  },
  {
   "cell_type": "markdown",
   "metadata": {},
   "source": [
    "## Age Demographics"
   ]
  },
  {
   "cell_type": "markdown",
   "metadata": {},
   "source": [
    "* Establish bins for ages\n",
    "\n",
    "\n",
    "* Categorize the existing players using the age bins. Hint: use pd.cut()\n",
    "\n",
    "\n",
    "* Calculate the numbers and percentages by age group\n",
    "\n",
    "\n",
    "* Create a summary data frame to hold the results\n",
    "\n",
    "\n",
    "* Optional: round the percentage column to two decimal points\n",
    "\n",
    "\n",
    "* Display Age Demographics Table\n"
   ]
  },
  {
   "cell_type": "code",
   "execution_count": 6,
   "metadata": {
    "tags": []
   },
   "outputs": [
    {
     "output_type": "execute_result",
     "data": {
      "text/plain": [
       "<pandas.io.formats.style.Styler at 0x214e625abe0>"
      ],
      "text/html": "<style  type=\"text/css\" >\n</style><table id=\"T_f4382e1c_13df_11eb_9a0e_4c1d961ba359\" ><thead>    <tr>        <th class=\"blank level0\" ></th>        <th class=\"col_heading level0 col0\" >Total Count</th>        <th class=\"col_heading level0 col1\" >Percentage of Players</th>    </tr></thead><tbody>\n                <tr>\n                        <th id=\"T_f4382e1c_13df_11eb_9a0e_4c1d961ba359level0_row0\" class=\"row_heading level0 row0\" ><10</th>\n                        <td id=\"T_f4382e1c_13df_11eb_9a0e_4c1d961ba359row0_col0\" class=\"data row0 col0\" >17</td>\n                        <td id=\"T_f4382e1c_13df_11eb_9a0e_4c1d961ba359row0_col1\" class=\"data row0 col1\" >2.95%</td>\n            </tr>\n            <tr>\n                        <th id=\"T_f4382e1c_13df_11eb_9a0e_4c1d961ba359level0_row1\" class=\"row_heading level0 row1\" >10-14</th>\n                        <td id=\"T_f4382e1c_13df_11eb_9a0e_4c1d961ba359row1_col0\" class=\"data row1 col0\" >22</td>\n                        <td id=\"T_f4382e1c_13df_11eb_9a0e_4c1d961ba359row1_col1\" class=\"data row1 col1\" >3.82%</td>\n            </tr>\n            <tr>\n                        <th id=\"T_f4382e1c_13df_11eb_9a0e_4c1d961ba359level0_row2\" class=\"row_heading level0 row2\" >15-19</th>\n                        <td id=\"T_f4382e1c_13df_11eb_9a0e_4c1d961ba359row2_col0\" class=\"data row2 col0\" >107</td>\n                        <td id=\"T_f4382e1c_13df_11eb_9a0e_4c1d961ba359row2_col1\" class=\"data row2 col1\" >18.58%</td>\n            </tr>\n            <tr>\n                        <th id=\"T_f4382e1c_13df_11eb_9a0e_4c1d961ba359level0_row3\" class=\"row_heading level0 row3\" >20-24</th>\n                        <td id=\"T_f4382e1c_13df_11eb_9a0e_4c1d961ba359row3_col0\" class=\"data row3 col0\" >258</td>\n                        <td id=\"T_f4382e1c_13df_11eb_9a0e_4c1d961ba359row3_col1\" class=\"data row3 col1\" >44.79%</td>\n            </tr>\n            <tr>\n                        <th id=\"T_f4382e1c_13df_11eb_9a0e_4c1d961ba359level0_row4\" class=\"row_heading level0 row4\" >25-29</th>\n                        <td id=\"T_f4382e1c_13df_11eb_9a0e_4c1d961ba359row4_col0\" class=\"data row4 col0\" >77</td>\n                        <td id=\"T_f4382e1c_13df_11eb_9a0e_4c1d961ba359row4_col1\" class=\"data row4 col1\" >13.37%</td>\n            </tr>\n            <tr>\n                        <th id=\"T_f4382e1c_13df_11eb_9a0e_4c1d961ba359level0_row5\" class=\"row_heading level0 row5\" >30-34</th>\n                        <td id=\"T_f4382e1c_13df_11eb_9a0e_4c1d961ba359row5_col0\" class=\"data row5 col0\" >52</td>\n                        <td id=\"T_f4382e1c_13df_11eb_9a0e_4c1d961ba359row5_col1\" class=\"data row5 col1\" >9.03%</td>\n            </tr>\n            <tr>\n                        <th id=\"T_f4382e1c_13df_11eb_9a0e_4c1d961ba359level0_row6\" class=\"row_heading level0 row6\" >35-39</th>\n                        <td id=\"T_f4382e1c_13df_11eb_9a0e_4c1d961ba359row6_col0\" class=\"data row6 col0\" >31</td>\n                        <td id=\"T_f4382e1c_13df_11eb_9a0e_4c1d961ba359row6_col1\" class=\"data row6 col1\" >5.38%</td>\n            </tr>\n            <tr>\n                        <th id=\"T_f4382e1c_13df_11eb_9a0e_4c1d961ba359level0_row7\" class=\"row_heading level0 row7\" >40+</th>\n                        <td id=\"T_f4382e1c_13df_11eb_9a0e_4c1d961ba359row7_col0\" class=\"data row7 col0\" >12</td>\n                        <td id=\"T_f4382e1c_13df_11eb_9a0e_4c1d961ba359row7_col1\" class=\"data row7 col1\" >2.08%</td>\n            </tr>\n    </tbody></table>"
     },
     "metadata": {},
     "execution_count": 6
    }
   ],
   "source": [
    "# Create age bins\n",
    "age_bins = [0, 9, 14, 19, 24, 29, 34, 39, 999]\n",
    "age_names = [\"<10\", \"10-14\", \"15-19\", \"20-24\", \"25-29\", \"30-34\", \"35-39\", \"40+\"]\n",
    "\n",
    "# Create the \"Age Group\" Index\n",
    "purchase_data_df[\"Age Group\"] = pd.cut(purchase_data_df[\"Age\"], age_bins, labels=age_names)\n",
    "\n",
    "# Create new data frame group\n",
    "ages_dfg = purchase_data_df.groupby(\"Age Group\")\n",
    "# for key, item in ages_dfg:\n",
    "#    print(ages_dfg.get_group(key))\n",
    "\n",
    "# Get the stats\n",
    "total_age_count_col = ages_dfg[\"SN\"].nunique()\n",
    "age_bin_percent_col = total_age_count_col / player_count * 100\n",
    "\n",
    "# Create the dataframe\n",
    "age_summary_df = pd.DataFrame({\"Total Count\": total_age_count_col, \"Percentage of Players\": age_bin_percent_col})\n",
    "age_summary_df.index.name = None\n",
    "# html = age_summary_df.to_html()\n",
    "# print(html)\n",
    "age_summary_df.style.format({\"Percentage of Players\": \"{:.2f}%\"})"
   ]
  },
  {
   "cell_type": "markdown",
   "metadata": {},
   "source": [
    "## Purchasing Analysis (Age)"
   ]
  },
  {
   "cell_type": "markdown",
   "metadata": {},
   "source": [
    "* Bin the purchase_data data frame by age\n",
    "\n",
    "\n",
    "* Run basic calculations to obtain purchase count, avg. purchase price, avg. purchase total per person etc. in the table below\n",
    "\n",
    "\n",
    "* Create a summary data frame to hold the results\n",
    "\n",
    "\n",
    "* Optional: give the displayed data cleaner formatting\n",
    "\n",
    "\n",
    "* Display the summary data frame"
   ]
  },
  {
   "cell_type": "code",
   "execution_count": 7,
   "metadata": {},
   "outputs": [
    {
     "output_type": "execute_result",
     "data": {
      "text/plain": [
       "<pandas.io.formats.style.Styler at 0x214e938f640>"
      ],
      "text/html": "<style  type=\"text/css\" >\n</style><table id=\"T_fb4f2f73_13df_11eb_bf3a_4c1d961ba359\" ><thead>    <tr>        <th class=\"blank level0\" ></th>        <th class=\"col_heading level0 col0\" >Purchase Count</th>        <th class=\"col_heading level0 col1\" >Average Purchase Price</th>        <th class=\"col_heading level0 col2\" >Total Purchase Value</th>        <th class=\"col_heading level0 col3\" >Avg Total Purchase per Person</th>    </tr></thead><tbody>\n                <tr>\n                        <th id=\"T_fb4f2f73_13df_11eb_bf3a_4c1d961ba359level0_row0\" class=\"row_heading level0 row0\" ><10</th>\n                        <td id=\"T_fb4f2f73_13df_11eb_bf3a_4c1d961ba359row0_col0\" class=\"data row0 col0\" >23</td>\n                        <td id=\"T_fb4f2f73_13df_11eb_bf3a_4c1d961ba359row0_col1\" class=\"data row0 col1\" >$3.35</td>\n                        <td id=\"T_fb4f2f73_13df_11eb_bf3a_4c1d961ba359row0_col2\" class=\"data row0 col2\" >$77.13</td>\n                        <td id=\"T_fb4f2f73_13df_11eb_bf3a_4c1d961ba359row0_col3\" class=\"data row0 col3\" >$4.54</td>\n            </tr>\n            <tr>\n                        <th id=\"T_fb4f2f73_13df_11eb_bf3a_4c1d961ba359level0_row1\" class=\"row_heading level0 row1\" >10-14</th>\n                        <td id=\"T_fb4f2f73_13df_11eb_bf3a_4c1d961ba359row1_col0\" class=\"data row1 col0\" >28</td>\n                        <td id=\"T_fb4f2f73_13df_11eb_bf3a_4c1d961ba359row1_col1\" class=\"data row1 col1\" >$2.96</td>\n                        <td id=\"T_fb4f2f73_13df_11eb_bf3a_4c1d961ba359row1_col2\" class=\"data row1 col2\" >$82.78</td>\n                        <td id=\"T_fb4f2f73_13df_11eb_bf3a_4c1d961ba359row1_col3\" class=\"data row1 col3\" >$3.76</td>\n            </tr>\n            <tr>\n                        <th id=\"T_fb4f2f73_13df_11eb_bf3a_4c1d961ba359level0_row2\" class=\"row_heading level0 row2\" >15-19</th>\n                        <td id=\"T_fb4f2f73_13df_11eb_bf3a_4c1d961ba359row2_col0\" class=\"data row2 col0\" >136</td>\n                        <td id=\"T_fb4f2f73_13df_11eb_bf3a_4c1d961ba359row2_col1\" class=\"data row2 col1\" >$3.04</td>\n                        <td id=\"T_fb4f2f73_13df_11eb_bf3a_4c1d961ba359row2_col2\" class=\"data row2 col2\" >$412.89</td>\n                        <td id=\"T_fb4f2f73_13df_11eb_bf3a_4c1d961ba359row2_col3\" class=\"data row2 col3\" >$3.86</td>\n            </tr>\n            <tr>\n                        <th id=\"T_fb4f2f73_13df_11eb_bf3a_4c1d961ba359level0_row3\" class=\"row_heading level0 row3\" >20-24</th>\n                        <td id=\"T_fb4f2f73_13df_11eb_bf3a_4c1d961ba359row3_col0\" class=\"data row3 col0\" >365</td>\n                        <td id=\"T_fb4f2f73_13df_11eb_bf3a_4c1d961ba359row3_col1\" class=\"data row3 col1\" >$3.05</td>\n                        <td id=\"T_fb4f2f73_13df_11eb_bf3a_4c1d961ba359row3_col2\" class=\"data row3 col2\" >$1,114.06</td>\n                        <td id=\"T_fb4f2f73_13df_11eb_bf3a_4c1d961ba359row3_col3\" class=\"data row3 col3\" >$4.32</td>\n            </tr>\n            <tr>\n                        <th id=\"T_fb4f2f73_13df_11eb_bf3a_4c1d961ba359level0_row4\" class=\"row_heading level0 row4\" >25-29</th>\n                        <td id=\"T_fb4f2f73_13df_11eb_bf3a_4c1d961ba359row4_col0\" class=\"data row4 col0\" >101</td>\n                        <td id=\"T_fb4f2f73_13df_11eb_bf3a_4c1d961ba359row4_col1\" class=\"data row4 col1\" >$2.90</td>\n                        <td id=\"T_fb4f2f73_13df_11eb_bf3a_4c1d961ba359row4_col2\" class=\"data row4 col2\" >$293.00</td>\n                        <td id=\"T_fb4f2f73_13df_11eb_bf3a_4c1d961ba359row4_col3\" class=\"data row4 col3\" >$3.81</td>\n            </tr>\n            <tr>\n                        <th id=\"T_fb4f2f73_13df_11eb_bf3a_4c1d961ba359level0_row5\" class=\"row_heading level0 row5\" >30-34</th>\n                        <td id=\"T_fb4f2f73_13df_11eb_bf3a_4c1d961ba359row5_col0\" class=\"data row5 col0\" >73</td>\n                        <td id=\"T_fb4f2f73_13df_11eb_bf3a_4c1d961ba359row5_col1\" class=\"data row5 col1\" >$2.93</td>\n                        <td id=\"T_fb4f2f73_13df_11eb_bf3a_4c1d961ba359row5_col2\" class=\"data row5 col2\" >$214.00</td>\n                        <td id=\"T_fb4f2f73_13df_11eb_bf3a_4c1d961ba359row5_col3\" class=\"data row5 col3\" >$4.12</td>\n            </tr>\n            <tr>\n                        <th id=\"T_fb4f2f73_13df_11eb_bf3a_4c1d961ba359level0_row6\" class=\"row_heading level0 row6\" >35-39</th>\n                        <td id=\"T_fb4f2f73_13df_11eb_bf3a_4c1d961ba359row6_col0\" class=\"data row6 col0\" >41</td>\n                        <td id=\"T_fb4f2f73_13df_11eb_bf3a_4c1d961ba359row6_col1\" class=\"data row6 col1\" >$3.60</td>\n                        <td id=\"T_fb4f2f73_13df_11eb_bf3a_4c1d961ba359row6_col2\" class=\"data row6 col2\" >$147.67</td>\n                        <td id=\"T_fb4f2f73_13df_11eb_bf3a_4c1d961ba359row6_col3\" class=\"data row6 col3\" >$4.76</td>\n            </tr>\n            <tr>\n                        <th id=\"T_fb4f2f73_13df_11eb_bf3a_4c1d961ba359level0_row7\" class=\"row_heading level0 row7\" >40+</th>\n                        <td id=\"T_fb4f2f73_13df_11eb_bf3a_4c1d961ba359row7_col0\" class=\"data row7 col0\" >13</td>\n                        <td id=\"T_fb4f2f73_13df_11eb_bf3a_4c1d961ba359row7_col1\" class=\"data row7 col1\" >$2.94</td>\n                        <td id=\"T_fb4f2f73_13df_11eb_bf3a_4c1d961ba359row7_col2\" class=\"data row7 col2\" >$38.24</td>\n                        <td id=\"T_fb4f2f73_13df_11eb_bf3a_4c1d961ba359row7_col3\" class=\"data row7 col3\" >$3.19</td>\n            </tr>\n    </tbody></table>"
     },
     "metadata": {},
     "execution_count": 7
    }
   ],
   "source": [
    "# Create new data frame group\n",
    "purchase_analysis_dfg = purchase_data_df.groupby(\"Age Group\")\n",
    "\n",
    "# Get the stats\n",
    "purchase_analysis_count_col = purchase_analysis_dfg[\"Purchase ID\"].nunique()\n",
    "purchase_analysis_avg_pp_col = purchase_analysis_dfg[\"Price\"].mean()\n",
    "purchase_analysis_tot_pp_col = purchase_analysis_dfg[\"Price\"].sum()\n",
    "purchase_analysis_avg_tot_pp_col = purchase_analysis_tot_pp_col / total_age_count_col\n",
    "\n",
    "# Create the dataframe\n",
    "age_analysis_df = pd.DataFrame({\n",
    "                                \"Purchase Count\": purchase_analysis_count_col, \n",
    "                                \"Average Purchase Price\": purchase_analysis_avg_pp_col,\n",
    "                                \"Total Purchase Value\": purchase_analysis_tot_pp_col,\n",
    "                                \"Avg Total Purchase per Person\": purchase_analysis_avg_tot_pp_col\n",
    "                              })\n",
    "\n",
    "# Print the new dataframe\n",
    "age_analysis_df.index.name = None\n",
    "# html = age_analysis_df.to_html()\n",
    "# print(html)\n",
    "age_analysis_df.style.format({\n",
    "                                \"Average Purchase Price\": \"${:,.2f}\",\n",
    "                                \"Total Purchase Value\": \"${:,.2f}\",\n",
    "                                \"Avg Total Purchase per Person\": \"${:,.2f}\"\n",
    "                             })"
   ]
  },
  {
   "cell_type": "markdown",
   "metadata": {},
   "source": [
    "## Top Spenders"
   ]
  },
  {
   "cell_type": "markdown",
   "metadata": {},
   "source": [
    "* Run basic calculations to obtain the results in the table below\n",
    "\n",
    "\n",
    "* Create a summary data frame to hold the results\n",
    "\n",
    "\n",
    "* Sort the total purchase value column in descending order\n",
    "\n",
    "\n",
    "* Optional: give the displayed data cleaner formatting\n",
    "\n",
    "\n",
    "* Display a preview of the summary data frame\n",
    "\n"
   ]
  },
  {
   "cell_type": "code",
   "execution_count": 8,
   "metadata": {
    "tags": []
   },
   "outputs": [
    {
     "output_type": "execute_result",
     "data": {
      "text/plain": [
       "<pandas.io.formats.style.Styler at 0x214e8ff5a60>"
      ],
      "text/html": "<style  type=\"text/css\" >\n</style><table id=\"T_058959f4_13e0_11eb_ba76_4c1d961ba359\" ><thead>    <tr>        <th class=\"blank level0\" ></th>        <th class=\"col_heading level0 col0\" >Purchase Count</th>        <th class=\"col_heading level0 col1\" >Average Purchase Price</th>        <th class=\"col_heading level0 col2\" >Total Purchase Value</th>    </tr>    <tr>        <th class=\"index_name level0\" >SN</th>        <th class=\"blank\" ></th>        <th class=\"blank\" ></th>        <th class=\"blank\" ></th>    </tr></thead><tbody>\n                <tr>\n                        <th id=\"T_058959f4_13e0_11eb_ba76_4c1d961ba359level0_row0\" class=\"row_heading level0 row0\" >Lisosia93</th>\n                        <td id=\"T_058959f4_13e0_11eb_ba76_4c1d961ba359row0_col0\" class=\"data row0 col0\" >5</td>\n                        <td id=\"T_058959f4_13e0_11eb_ba76_4c1d961ba359row0_col1\" class=\"data row0 col1\" >$3.79</td>\n                        <td id=\"T_058959f4_13e0_11eb_ba76_4c1d961ba359row0_col2\" class=\"data row0 col2\" >$18.96</td>\n            </tr>\n            <tr>\n                        <th id=\"T_058959f4_13e0_11eb_ba76_4c1d961ba359level0_row1\" class=\"row_heading level0 row1\" >Idastidru52</th>\n                        <td id=\"T_058959f4_13e0_11eb_ba76_4c1d961ba359row1_col0\" class=\"data row1 col0\" >4</td>\n                        <td id=\"T_058959f4_13e0_11eb_ba76_4c1d961ba359row1_col1\" class=\"data row1 col1\" >$3.86</td>\n                        <td id=\"T_058959f4_13e0_11eb_ba76_4c1d961ba359row1_col2\" class=\"data row1 col2\" >$15.45</td>\n            </tr>\n            <tr>\n                        <th id=\"T_058959f4_13e0_11eb_ba76_4c1d961ba359level0_row2\" class=\"row_heading level0 row2\" >Chamjask73</th>\n                        <td id=\"T_058959f4_13e0_11eb_ba76_4c1d961ba359row2_col0\" class=\"data row2 col0\" >3</td>\n                        <td id=\"T_058959f4_13e0_11eb_ba76_4c1d961ba359row2_col1\" class=\"data row2 col1\" >$4.61</td>\n                        <td id=\"T_058959f4_13e0_11eb_ba76_4c1d961ba359row2_col2\" class=\"data row2 col2\" >$13.83</td>\n            </tr>\n            <tr>\n                        <th id=\"T_058959f4_13e0_11eb_ba76_4c1d961ba359level0_row3\" class=\"row_heading level0 row3\" >Iral74</th>\n                        <td id=\"T_058959f4_13e0_11eb_ba76_4c1d961ba359row3_col0\" class=\"data row3 col0\" >4</td>\n                        <td id=\"T_058959f4_13e0_11eb_ba76_4c1d961ba359row3_col1\" class=\"data row3 col1\" >$3.40</td>\n                        <td id=\"T_058959f4_13e0_11eb_ba76_4c1d961ba359row3_col2\" class=\"data row3 col2\" >$13.62</td>\n            </tr>\n            <tr>\n                        <th id=\"T_058959f4_13e0_11eb_ba76_4c1d961ba359level0_row4\" class=\"row_heading level0 row4\" >Iskadarya95</th>\n                        <td id=\"T_058959f4_13e0_11eb_ba76_4c1d961ba359row4_col0\" class=\"data row4 col0\" >3</td>\n                        <td id=\"T_058959f4_13e0_11eb_ba76_4c1d961ba359row4_col1\" class=\"data row4 col1\" >$4.37</td>\n                        <td id=\"T_058959f4_13e0_11eb_ba76_4c1d961ba359row4_col2\" class=\"data row4 col2\" >$13.10</td>\n            </tr>\n    </tbody></table>"
     },
     "metadata": {},
     "execution_count": 8
    }
   ],
   "source": [
    "# Create new data frame group\n",
    "names_dfg = purchase_data_df.groupby(\"SN\")\n",
    "# for key, item in names_dfg:\n",
    "#    print(names_dfg.get_group(key))\n",
    "\n",
    "# Get the stats\n",
    "top_purchase_count_col = names_dfg[\"Purchase ID\"].count()\n",
    "top_average_pp_col = names_dfg[\"Price\"].mean()\n",
    "top_total_purchase_value_col = names_dfg[\"Price\"].sum()\n",
    "\n",
    "# Create data frame with the values above \n",
    "top_sum_df = pd.DataFrame({\n",
    "                            \"Purchase Count\": top_purchase_count_col, \n",
    "                            \"Average Purchase Price\": top_average_pp_col,\n",
    "                            \"Total Purchase Value\": top_total_purchase_value_col\n",
    "                          })\n",
    "\n",
    "# Format with currency style\n",
    "# html = top_sum_df.sort_values(['Total Purchase Value'], ascending=False).head().to_html()\n",
    "# print(html)\n",
    "top_sum_df.sort_values(['Total Purchase Value'], ascending=False).head().style.format({\n",
    "                                                                                        \"Average Purchase Price\": \"${:,.2f}\",\n",
    "                                                                                        \"Total Purchase Value\": \"${:,.2f}\"\n",
    "                                                                                     })"
   ]
  },
  {
   "cell_type": "markdown",
   "metadata": {},
   "source": [
    "## Most Popular Items"
   ]
  },
  {
   "cell_type": "markdown",
   "metadata": {},
   "source": [
    "* Retrieve the Item ID, Item Name, and Item Price columns\n",
    "\n",
    "\n",
    "* Group by Item ID and Item Name. Perform calculations to obtain purchase count, average item price, and total purchase value\n",
    "\n",
    "\n",
    "* Create a summary data frame to hold the results\n",
    "\n",
    "\n",
    "* Sort the purchase count column in descending order\n",
    "\n",
    "\n",
    "* Optional: give the displayed data cleaner formatting\n",
    "\n",
    "\n",
    "* Display a preview of the summary data frame\n",
    "\n"
   ]
  },
  {
   "cell_type": "code",
   "execution_count": 10,
   "metadata": {
    "tags": []
   },
   "outputs": [
    {
     "output_type": "execute_result",
     "data": {
      "text/plain": [
       "<pandas.io.formats.style.Styler at 0x214e93c1400>"
      ],
      "text/html": "<style  type=\"text/css\" >\n</style><table id=\"T_130d1ae6_13e0_11eb_b232_4c1d961ba359\" ><thead>    <tr>        <th class=\"blank\" ></th>        <th class=\"blank level0\" ></th>        <th class=\"col_heading level0 col0\" >Purchase Count</th>        <th class=\"col_heading level0 col1\" >Item Price</th>        <th class=\"col_heading level0 col2\" >Total Purchase Value</th>    </tr>    <tr>        <th class=\"index_name level0\" >Item ID</th>        <th class=\"index_name level1\" >Item Name</th>        <th class=\"blank\" ></th>        <th class=\"blank\" ></th>        <th class=\"blank\" ></th>    </tr></thead><tbody>\n                <tr>\n                        <th id=\"T_130d1ae6_13e0_11eb_b232_4c1d961ba359level0_row0\" class=\"row_heading level0 row0\" >92</th>\n                        <th id=\"T_130d1ae6_13e0_11eb_b232_4c1d961ba359level1_row0\" class=\"row_heading level1 row0\" >Final Critic</th>\n                        <td id=\"T_130d1ae6_13e0_11eb_b232_4c1d961ba359row0_col0\" class=\"data row0 col0\" >13</td>\n                        <td id=\"T_130d1ae6_13e0_11eb_b232_4c1d961ba359row0_col1\" class=\"data row0 col1\" >$4.61</td>\n                        <td id=\"T_130d1ae6_13e0_11eb_b232_4c1d961ba359row0_col2\" class=\"data row0 col2\" >$59.99</td>\n            </tr>\n            <tr>\n                        <th id=\"T_130d1ae6_13e0_11eb_b232_4c1d961ba359level0_row1\" class=\"row_heading level0 row1\" >178</th>\n                        <th id=\"T_130d1ae6_13e0_11eb_b232_4c1d961ba359level1_row1\" class=\"row_heading level1 row1\" >Oathbreaker, Last Hope of the Breaking Storm</th>\n                        <td id=\"T_130d1ae6_13e0_11eb_b232_4c1d961ba359row1_col0\" class=\"data row1 col0\" >12</td>\n                        <td id=\"T_130d1ae6_13e0_11eb_b232_4c1d961ba359row1_col1\" class=\"data row1 col1\" >$4.23</td>\n                        <td id=\"T_130d1ae6_13e0_11eb_b232_4c1d961ba359row1_col2\" class=\"data row1 col2\" >$50.76</td>\n            </tr>\n            <tr>\n                        <th id=\"T_130d1ae6_13e0_11eb_b232_4c1d961ba359level0_row2\" class=\"row_heading level0 row2\" >145</th>\n                        <th id=\"T_130d1ae6_13e0_11eb_b232_4c1d961ba359level1_row2\" class=\"row_heading level1 row2\" >Fiery Glass Crusader</th>\n                        <td id=\"T_130d1ae6_13e0_11eb_b232_4c1d961ba359row2_col0\" class=\"data row2 col0\" >9</td>\n                        <td id=\"T_130d1ae6_13e0_11eb_b232_4c1d961ba359row2_col1\" class=\"data row2 col1\" >$4.58</td>\n                        <td id=\"T_130d1ae6_13e0_11eb_b232_4c1d961ba359row2_col2\" class=\"data row2 col2\" >$41.22</td>\n            </tr>\n            <tr>\n                        <th id=\"T_130d1ae6_13e0_11eb_b232_4c1d961ba359level0_row3\" class=\"row_heading level0 row3\" >132</th>\n                        <th id=\"T_130d1ae6_13e0_11eb_b232_4c1d961ba359level1_row3\" class=\"row_heading level1 row3\" >Persuasion</th>\n                        <td id=\"T_130d1ae6_13e0_11eb_b232_4c1d961ba359row3_col0\" class=\"data row3 col0\" >9</td>\n                        <td id=\"T_130d1ae6_13e0_11eb_b232_4c1d961ba359row3_col1\" class=\"data row3 col1\" >$3.22</td>\n                        <td id=\"T_130d1ae6_13e0_11eb_b232_4c1d961ba359row3_col2\" class=\"data row3 col2\" >$28.99</td>\n            </tr>\n            <tr>\n                        <th id=\"T_130d1ae6_13e0_11eb_b232_4c1d961ba359level0_row4\" class=\"row_heading level0 row4\" >108</th>\n                        <th id=\"T_130d1ae6_13e0_11eb_b232_4c1d961ba359level1_row4\" class=\"row_heading level1 row4\" >Extraction, Quickblade Of Trembling Hands</th>\n                        <td id=\"T_130d1ae6_13e0_11eb_b232_4c1d961ba359row4_col0\" class=\"data row4 col0\" >9</td>\n                        <td id=\"T_130d1ae6_13e0_11eb_b232_4c1d961ba359row4_col1\" class=\"data row4 col1\" >$3.53</td>\n                        <td id=\"T_130d1ae6_13e0_11eb_b232_4c1d961ba359row4_col2\" class=\"data row4 col2\" >$31.77</td>\n            </tr>\n    </tbody></table>"
     },
     "metadata": {},
     "execution_count": 10
    }
   ],
   "source": [
    "# Create new dataframe\n",
    "items_df = purchase_data_df[['Item ID', 'Item Name', 'Price']]\n",
    "\n",
    "# Create the dataframe group\n",
    "items_dfg = items_df.groupby(['Item ID', 'Item Name'])\n",
    "# for key, item in items_dfg:\n",
    "#    print(items_dfg.get_group(key))\n",
    "\n",
    "# Get the stats\n",
    "mostpop_purchase_count_col = items_dfg[\"Item ID\"].count()\n",
    "mostpop_total_purchase_value_col = items_dfg[\"Price\"].sum()\n",
    "mostpop_total_avg_item_price_col = mostpop_total_purchase_value_col / mostpop_purchase_count_col\n",
    "\n",
    "# Create data frame with the values above \n",
    "mostpop_sum_df = pd.DataFrame({\n",
    "                               \"Purchase Count\": mostpop_purchase_count_col, \n",
    "                               \"Item Price\": mostpop_total_avg_item_price_col,\n",
    "                               \"Total Purchase Value\": mostpop_total_purchase_value_col\n",
    "                             })\n",
    "\n",
    "# Format with currency style\n",
    "# html = mostpop_sum_df.sort_values(['Purchase Count'], ascending=False).head().to_html()\n",
    "# print(html)\n",
    "mostpop_sum_df.sort_values(['Purchase Count'], ascending=False).head().style.format({\n",
    "                                                                                      \"Item Price\": \"${:,.2f}\",\n",
    "                                                                                      \"Total Purchase Value\": \"${:,.2f}\"\n",
    "                                                                                   })"
   ]
  },
  {
   "cell_type": "markdown",
   "metadata": {},
   "source": [
    "## Most Profitable Items"
   ]
  },
  {
   "cell_type": "markdown",
   "metadata": {},
   "source": [
    "* Sort the above table by total purchase value in descending order\n",
    "\n",
    "\n",
    "* Optional: give the displayed data cleaner formatting\n",
    "\n",
    "\n",
    "* Display a preview of the data frame\n",
    "\n"
   ]
  },
  {
   "cell_type": "code",
   "execution_count": 11,
   "metadata": {
    "scrolled": true
   },
   "outputs": [
    {
     "output_type": "execute_result",
     "data": {
      "text/plain": [
       "<pandas.io.formats.style.Styler at 0x214e82eb460>"
      ],
      "text/html": "<style  type=\"text/css\" >\n</style><table id=\"T_1a0408e9_13e0_11eb_ae28_4c1d961ba359\" ><thead>    <tr>        <th class=\"blank\" ></th>        <th class=\"blank level0\" ></th>        <th class=\"col_heading level0 col0\" >Purchase Count</th>        <th class=\"col_heading level0 col1\" >Item Price</th>        <th class=\"col_heading level0 col2\" >Total Purchase Value</th>    </tr>    <tr>        <th class=\"index_name level0\" >Item ID</th>        <th class=\"index_name level1\" >Item Name</th>        <th class=\"blank\" ></th>        <th class=\"blank\" ></th>        <th class=\"blank\" ></th>    </tr></thead><tbody>\n                <tr>\n                        <th id=\"T_1a0408e9_13e0_11eb_ae28_4c1d961ba359level0_row0\" class=\"row_heading level0 row0\" >92</th>\n                        <th id=\"T_1a0408e9_13e0_11eb_ae28_4c1d961ba359level1_row0\" class=\"row_heading level1 row0\" >Final Critic</th>\n                        <td id=\"T_1a0408e9_13e0_11eb_ae28_4c1d961ba359row0_col0\" class=\"data row0 col0\" >13</td>\n                        <td id=\"T_1a0408e9_13e0_11eb_ae28_4c1d961ba359row0_col1\" class=\"data row0 col1\" >$4.61</td>\n                        <td id=\"T_1a0408e9_13e0_11eb_ae28_4c1d961ba359row0_col2\" class=\"data row0 col2\" >$59.99</td>\n            </tr>\n            <tr>\n                        <th id=\"T_1a0408e9_13e0_11eb_ae28_4c1d961ba359level0_row1\" class=\"row_heading level0 row1\" >178</th>\n                        <th id=\"T_1a0408e9_13e0_11eb_ae28_4c1d961ba359level1_row1\" class=\"row_heading level1 row1\" >Oathbreaker, Last Hope of the Breaking Storm</th>\n                        <td id=\"T_1a0408e9_13e0_11eb_ae28_4c1d961ba359row1_col0\" class=\"data row1 col0\" >12</td>\n                        <td id=\"T_1a0408e9_13e0_11eb_ae28_4c1d961ba359row1_col1\" class=\"data row1 col1\" >$4.23</td>\n                        <td id=\"T_1a0408e9_13e0_11eb_ae28_4c1d961ba359row1_col2\" class=\"data row1 col2\" >$50.76</td>\n            </tr>\n            <tr>\n                        <th id=\"T_1a0408e9_13e0_11eb_ae28_4c1d961ba359level0_row2\" class=\"row_heading level0 row2\" >82</th>\n                        <th id=\"T_1a0408e9_13e0_11eb_ae28_4c1d961ba359level1_row2\" class=\"row_heading level1 row2\" >Nirvana</th>\n                        <td id=\"T_1a0408e9_13e0_11eb_ae28_4c1d961ba359row2_col0\" class=\"data row2 col0\" >9</td>\n                        <td id=\"T_1a0408e9_13e0_11eb_ae28_4c1d961ba359row2_col1\" class=\"data row2 col1\" >$4.90</td>\n                        <td id=\"T_1a0408e9_13e0_11eb_ae28_4c1d961ba359row2_col2\" class=\"data row2 col2\" >$44.10</td>\n            </tr>\n            <tr>\n                        <th id=\"T_1a0408e9_13e0_11eb_ae28_4c1d961ba359level0_row3\" class=\"row_heading level0 row3\" >145</th>\n                        <th id=\"T_1a0408e9_13e0_11eb_ae28_4c1d961ba359level1_row3\" class=\"row_heading level1 row3\" >Fiery Glass Crusader</th>\n                        <td id=\"T_1a0408e9_13e0_11eb_ae28_4c1d961ba359row3_col0\" class=\"data row3 col0\" >9</td>\n                        <td id=\"T_1a0408e9_13e0_11eb_ae28_4c1d961ba359row3_col1\" class=\"data row3 col1\" >$4.58</td>\n                        <td id=\"T_1a0408e9_13e0_11eb_ae28_4c1d961ba359row3_col2\" class=\"data row3 col2\" >$41.22</td>\n            </tr>\n            <tr>\n                        <th id=\"T_1a0408e9_13e0_11eb_ae28_4c1d961ba359level0_row4\" class=\"row_heading level0 row4\" >103</th>\n                        <th id=\"T_1a0408e9_13e0_11eb_ae28_4c1d961ba359level1_row4\" class=\"row_heading level1 row4\" >Singed Scalpel</th>\n                        <td id=\"T_1a0408e9_13e0_11eb_ae28_4c1d961ba359row4_col0\" class=\"data row4 col0\" >8</td>\n                        <td id=\"T_1a0408e9_13e0_11eb_ae28_4c1d961ba359row4_col1\" class=\"data row4 col1\" >$4.35</td>\n                        <td id=\"T_1a0408e9_13e0_11eb_ae28_4c1d961ba359row4_col2\" class=\"data row4 col2\" >$34.80</td>\n            </tr>\n    </tbody></table>"
     },
     "metadata": {},
     "execution_count": 11
    }
   ],
   "source": [
    "# Format with currency style\n",
    "# html = mostpop_sum_df.sort_values(['Total Purchase Value'], ascending=False).head().to_html()\n",
    "# print(html) \n",
    "mostpop_sum_df.sort_values(['Total Purchase Value'], ascending=False).head().style.format({\"Item Price\": \"${:,.2f}\", \"Total Purchase Value\": \"${:,.2f}\"})"
   ]
  },
  {
   "cell_type": "code",
   "execution_count": null,
   "metadata": {},
   "outputs": [],
   "source": []
  }
 ],
 "metadata": {
  "anaconda-cloud": {},
  "kernel_info": {
   "name": "python3"
  },
  "kernelspec": {
   "display_name": "Python 3",
   "language": "python",
   "name": "python3"
  },
  "language_info": {
   "codemirror_mode": {
    "name": "ipython",
    "version": 3
   },
   "file_extension": ".py",
   "mimetype": "text/x-python",
   "name": "python",
   "nbconvert_exporter": "python",
   "pygments_lexer": "ipython3",
   "version": "3.8.3-final"
  },
  "latex_envs": {
   "LaTeX_envs_menu_present": true,
   "autoclose": false,
   "autocomplete": true,
   "bibliofile": "biblio.bib",
   "cite_by": "apalike",
   "current_citInitial": 1,
   "eqLabelWithNumbers": true,
   "eqNumInitial": 1,
   "hotkeys": {
    "equation": "Ctrl-E",
    "itemize": "Ctrl-I"
   },
   "labels_anchors": false,
   "latex_user_defs": false,
   "report_style_numbering": false,
   "user_envs_cfg": false
  },
  "nteract": {
   "version": "0.2.0"
  }
 },
 "nbformat": 4,
 "nbformat_minor": 2
}